{
 "cells": [
  {
   "cell_type": "markdown",
   "metadata": {},
   "source": [
    "\n",
    "# Natural Language Processing (COMM061)\n",
    "\n",
    "\n",
    "**Part 2**\n",
    "\n",
    "\n"
   ]
  },
  {
   "cell_type": "markdown",
   "metadata": {},
   "source": [
    "# GROUP 21\n",
    "\n",
    "\n",
    "**TEAM MEMBERS: KRISHNAKUMAR KANNAN, ASHITHA REJITH, ARAVIND RAJU**"
   ]
  },
  {
   "cell_type": "markdown",
   "metadata": {},
   "source": [
    "# Research Article Classification"
   ]
  },
  {
   "cell_type": "markdown",
   "metadata": {},
   "source": [
    "In the world of advanced science and technology where research driven scientific knowledge is prioritized over traditional concepts, there is a healthy competition among scientists, and academics interested in the educational sector to publish their findings and works in scientific journals. With more funds being dedicated to research and related studies there are a number of articles about all subjects published in various journals at an alarming rate. \n",
    "\n",
    "For a layman and other academicians who aren’t experts in each of these sectors there is a necessity to classify these article to its respective genre based on its general summary. On this behalf our objective is to develop a NLP model which can classify an article given its abstract and title to its most similar and identical genre. The data-set used in the model is downloaded from kaggle.com. It consists of the title and abstract of articles from 6 various fields namely Computer Science, Physics, Mathematics, Statistics, Quantitative Biology and Quantitative Finance.\n",
    "\n",
    "Our aim is to classify the text input given by the user and to predict the most similar genre among the 6 to which the work is comprised of.\n",
    "\n",
    "\n"
   ]
  },
  {
   "cell_type": "markdown",
   "metadata": {},
   "source": [
    "# Data-set"
   ]
  },
  {
   "cell_type": "markdown",
   "metadata": {},
   "source": [
    "The dataset comprises around 30000 research articles which fall under a wide variety of topics namely Physics, Statistics, Mathematics, Quantitative Biology & Quantitative Finance. The aim of the model is to develop a prototype that classifies an unseen article into one or more of the mentioned topics."
   ]
  },
  {
   "cell_type": "code",
   "execution_count": 1,
   "metadata": {},
   "outputs": [
    {
     "name": "stderr",
     "output_type": "stream",
     "text": [
      "[nltk_data] Downloading package stopwords to\n",
      "[nltk_data]     /Users/aravindraju/nltk_data...\n",
      "[nltk_data]   Package stopwords is already up-to-date!\n",
      "[nltk_data] Downloading package wordnet to\n",
      "[nltk_data]     /Users/aravindraju/nltk_data...\n",
      "[nltk_data]   Package wordnet is already up-to-date!\n"
     ]
    }
   ],
   "source": [
    "import pandas as pd\n",
    "import numpy as np\n",
    "import os\n",
    "import string\n",
    "from nltk.corpus import stopwords\n",
    "from nltk.stem.porter import PorterStemmer\n",
    "import nltk\n",
    "import matplotlib.pyplot as plt\n",
    "nltk.download('stopwords')\n",
    "nltk.download('wordnet')\n",
    "from sklearn.feature_extraction.text import TfidfVectorizer\n",
    "from sklearn.model_selection import train_test_split\n",
    "%matplotlib inline\n",
    "import warnings\n",
    "warnings.filterwarnings('ignore')\n",
    "import seaborn as sns\n",
    "import matplotlib.pyplot as plt"
   ]
  },
  {
   "cell_type": "markdown",
   "metadata": {},
   "source": [
    "# Loading Data"
   ]
  },
  {
   "cell_type": "code",
   "execution_count": 2,
   "metadata": {},
   "outputs": [
    {
     "data": {
      "text/html": [
       "<div>\n",
       "<style scoped>\n",
       "    .dataframe tbody tr th:only-of-type {\n",
       "        vertical-align: middle;\n",
       "    }\n",
       "\n",
       "    .dataframe tbody tr th {\n",
       "        vertical-align: top;\n",
       "    }\n",
       "\n",
       "    .dataframe thead th {\n",
       "        text-align: right;\n",
       "    }\n",
       "</style>\n",
       "<table border=\"1\" class=\"dataframe\">\n",
       "  <thead>\n",
       "    <tr style=\"text-align: right;\">\n",
       "      <th></th>\n",
       "      <th>ID</th>\n",
       "      <th>TITLE</th>\n",
       "      <th>ABSTRACT</th>\n",
       "      <th>Computer Science</th>\n",
       "      <th>Physics</th>\n",
       "      <th>Mathematics</th>\n",
       "      <th>Statistics</th>\n",
       "      <th>Quantitative Biology</th>\n",
       "      <th>Quantitative Finance</th>\n",
       "    </tr>\n",
       "  </thead>\n",
       "  <tbody>\n",
       "    <tr>\n",
       "      <th>0</th>\n",
       "      <td>1</td>\n",
       "      <td>Reconstructing Subject-Specific Effect Maps</td>\n",
       "      <td>Predictive models allow subject-specific inf...</td>\n",
       "      <td>1</td>\n",
       "      <td>0</td>\n",
       "      <td>0</td>\n",
       "      <td>0</td>\n",
       "      <td>0</td>\n",
       "      <td>0</td>\n",
       "    </tr>\n",
       "    <tr>\n",
       "      <th>1</th>\n",
       "      <td>2</td>\n",
       "      <td>Rotation Invariance Neural Network</td>\n",
       "      <td>Rotation invariance and translation invarian...</td>\n",
       "      <td>1</td>\n",
       "      <td>0</td>\n",
       "      <td>0</td>\n",
       "      <td>0</td>\n",
       "      <td>0</td>\n",
       "      <td>0</td>\n",
       "    </tr>\n",
       "    <tr>\n",
       "      <th>2</th>\n",
       "      <td>3</td>\n",
       "      <td>Spherical polyharmonics and Poisson kernels fo...</td>\n",
       "      <td>We introduce and develop the notion of spher...</td>\n",
       "      <td>0</td>\n",
       "      <td>0</td>\n",
       "      <td>1</td>\n",
       "      <td>0</td>\n",
       "      <td>0</td>\n",
       "      <td>0</td>\n",
       "    </tr>\n",
       "    <tr>\n",
       "      <th>3</th>\n",
       "      <td>4</td>\n",
       "      <td>A finite element approximation for the stochas...</td>\n",
       "      <td>The stochastic Landau--Lifshitz--Gilbert (LL...</td>\n",
       "      <td>0</td>\n",
       "      <td>0</td>\n",
       "      <td>1</td>\n",
       "      <td>0</td>\n",
       "      <td>0</td>\n",
       "      <td>0</td>\n",
       "    </tr>\n",
       "    <tr>\n",
       "      <th>4</th>\n",
       "      <td>5</td>\n",
       "      <td>Comparative study of Discrete Wavelet Transfor...</td>\n",
       "      <td>Fourier-transform infra-red (FTIR) spectra o...</td>\n",
       "      <td>1</td>\n",
       "      <td>0</td>\n",
       "      <td>0</td>\n",
       "      <td>1</td>\n",
       "      <td>0</td>\n",
       "      <td>0</td>\n",
       "    </tr>\n",
       "  </tbody>\n",
       "</table>\n",
       "</div>"
      ],
      "text/plain": [
       "   ID                                              TITLE  \\\n",
       "0   1        Reconstructing Subject-Specific Effect Maps   \n",
       "1   2                 Rotation Invariance Neural Network   \n",
       "2   3  Spherical polyharmonics and Poisson kernels fo...   \n",
       "3   4  A finite element approximation for the stochas...   \n",
       "4   5  Comparative study of Discrete Wavelet Transfor...   \n",
       "\n",
       "                                            ABSTRACT  Computer Science  \\\n",
       "0    Predictive models allow subject-specific inf...                 1   \n",
       "1    Rotation invariance and translation invarian...                 1   \n",
       "2    We introduce and develop the notion of spher...                 0   \n",
       "3    The stochastic Landau--Lifshitz--Gilbert (LL...                 0   \n",
       "4    Fourier-transform infra-red (FTIR) spectra o...                 1   \n",
       "\n",
       "   Physics  Mathematics  Statistics  Quantitative Biology  \\\n",
       "0        0            0           0                     0   \n",
       "1        0            0           0                     0   \n",
       "2        0            1           0                     0   \n",
       "3        0            1           0                     0   \n",
       "4        0            0           1                     0   \n",
       "\n",
       "   Quantitative Finance  \n",
       "0                     0  \n",
       "1                     0  \n",
       "2                     0  \n",
       "3                     0  \n",
       "4                     0  "
      ]
     },
     "execution_count": 2,
     "metadata": {},
     "output_type": "execute_result"
    }
   ],
   "source": [
    "dataset=pd.read_csv('Research_Article_train.csv')\n",
    "#dataset.head(15)\n",
    "\n",
    "dataset.head(5)"
   ]
  },
  {
   "cell_type": "code",
   "execution_count": 3,
   "metadata": {},
   "outputs": [
    {
     "data": {
      "text/plain": [
       "ID                      float64\n",
       "TITLE                    object\n",
       "ABSTRACT                 object\n",
       "Computer Science        float64\n",
       "Physics                 float64\n",
       "Mathematics             float64\n",
       "Statistics              float64\n",
       "Quantitative Biology    float64\n",
       "Quantitative Finance    float64\n",
       "dtype: object"
      ]
     },
     "execution_count": 3,
     "metadata": {},
     "output_type": "execute_result"
    }
   ],
   "source": [
    "dataset['ID']=dataset['ID'].astype(float)\n",
    "dataset['Computer Science']=dataset['Computer Science'].astype(float)\n",
    "dataset['Physics']=dataset['Physics'].astype(float)\n",
    "dataset['Mathematics']=dataset['Mathematics'].astype(float)\n",
    "dataset['Statistics']=dataset['Statistics'].astype(float)\n",
    "dataset['Quantitative Biology']=dataset['Quantitative Biology'].astype(float)\n",
    "dataset['Quantitative Finance']=dataset['Quantitative Finance'].astype(float)\n",
    "dataset.dtypes"
   ]
  },
  {
   "cell_type": "code",
   "execution_count": 4,
   "metadata": {},
   "outputs": [],
   "source": [
    "y=dataset[['Computer Science', 'Physics', 'Mathematics',\n",
    "       'Statistics', 'Quantitative Biology', 'Quantitative Finance']]"
   ]
  },
  {
   "cell_type": "code",
   "execution_count": 5,
   "metadata": {},
   "outputs": [],
   "source": [
    "#combining 2 text columns title and abstract into one and drop columns title and abstract\n",
    "dataset['Text']=dataset['TITLE']+' '+dataset['ABSTRACT']\n",
    "dataset.drop(columns=['TITLE','ABSTRACT'], inplace=True)\n",
    "#dataset.head(5)"
   ]
  },
  {
   "cell_type": "markdown",
   "metadata": {},
   "source": [
    "# Data Pre-processing"
   ]
  },
  {
   "cell_type": "markdown",
   "metadata": {},
   "source": [
    " Input dataset will be undergoing some prerprocessing to get a perfect model with maximum performance.\n",
    "\n",
    "Following steps will be done to make preprocess the dependent variable (comment_text)\n",
    "\n",
    " 🔹 Replace newline,punctuation, tabs and digits with white spaces\n",
    " \n",
    " 🔹 Convert all string to lower case\n",
    " \n",
    " 🔹 Split the text into words\n",
    " \n",
    " 🔹 Apply stemming Lemmatization to each words and remove    stop words from the sentence.\n",
    " \n",
    " 🔹After applying this filters, this words are joined and attached to the same data frame\n",
    "\n",
    "\n"
   ]
  },
  {
   "cell_type": "code",
   "execution_count": 6,
   "metadata": {},
   "outputs": [],
   "source": [
    "remove_punc = string.punctuation\n",
    "def remove_punctuation(text):\n",
    "    return text.translate(str.maketrans('', '', remove_punc))"
   ]
  },
  {
   "cell_type": "code",
   "execution_count": 7,
   "metadata": {},
   "outputs": [],
   "source": [
    "stopword = set(stopwords.words('english'))\n",
    "def remove_stopwords(text):\n",
    "    \"\"\"custom function to remove the stopwords\"\"\"\n",
    "    return \" \".join([word for word in str(text).split() if word not in stopword])"
   ]
  },
  {
   "cell_type": "code",
   "execution_count": 8,
   "metadata": {},
   "outputs": [],
   "source": [
    "from nltk.stem import PorterStemmer\n",
    "stemmer = PorterStemmer()\n",
    "def stem_words(text):\n",
    "    return \" \".join([stemmer.stem(word) for word in text.split()])"
   ]
  },
  {
   "cell_type": "code",
   "execution_count": 9,
   "metadata": {},
   "outputs": [],
   "source": [
    "from nltk.stem import WordNetLemmatizer\n",
    "lemmatizer = WordNetLemmatizer()\n",
    "def lemmatize_words(text):\n",
    "    return \" \".join([lemmatizer.lemmatize(word) for word in text.split()])"
   ]
  },
  {
   "cell_type": "markdown",
   "metadata": {},
   "source": [
    "# Defining a function for preprocessing "
   ]
  },
  {
   "cell_type": "code",
   "execution_count": 10,
   "metadata": {},
   "outputs": [],
   "source": [
    "def preprocessing(dataset):\n",
    "    #convert to string type\n",
    "    dataset['Text'] = dataset['Text'].astype(str)\n",
    "    #convert to the lowercase\n",
    "    dataset[\"Text\"] = dataset[\"Text\"].str.lower()\n",
    "    #remove punctuations\n",
    "    dataset[\"Text\"] = dataset[\"Text\"].apply(lambda text: remove_punctuation(text))\n",
    "    #stopwords removal\n",
    "    dataset[\"Text\"] = dataset[\"Text\"].apply(lambda text: remove_stopwords(text))\n",
    "    #Remove Numbers\n",
    "    dataset['Text'] =dataset[\"Text\"].str.replace('\\d+', '')\n",
    "    #stemming\n",
    "    #dataset[\"Text\"] = dataset[\"Text\"].apply(lambda text: stem_words(text))\n",
    "    #lemmatisation\n",
    "    dataset[\"Text\"] = dataset[\"Text\"].apply(lambda text: lemmatize_words(text))\n",
    "    return dataset"
   ]
  },
  {
   "cell_type": "code",
   "execution_count": 11,
   "metadata": {},
   "outputs": [],
   "source": [
    "import warnings\n",
    "warnings.filterwarnings('ignore')\n",
    "processed_data=preprocessing(dataset)"
   ]
  },
  {
   "cell_type": "code",
   "execution_count": 33,
   "metadata": {
    "scrolled": true
   },
   "outputs": [
    {
     "data": {
      "text/html": [
       "<div>\n",
       "<style scoped>\n",
       "    .dataframe tbody tr th:only-of-type {\n",
       "        vertical-align: middle;\n",
       "    }\n",
       "\n",
       "    .dataframe tbody tr th {\n",
       "        vertical-align: top;\n",
       "    }\n",
       "\n",
       "    .dataframe thead th {\n",
       "        text-align: right;\n",
       "    }\n",
       "</style>\n",
       "<table border=\"1\" class=\"dataframe\">\n",
       "  <thead>\n",
       "    <tr style=\"text-align: right;\">\n",
       "      <th></th>\n",
       "      <th>Text</th>\n",
       "      <th>Computer Science</th>\n",
       "      <th>Physics</th>\n",
       "      <th>Mathematics</th>\n",
       "      <th>Statistics</th>\n",
       "      <th>Quantitative Biology</th>\n",
       "      <th>Quantitative Finance</th>\n",
       "    </tr>\n",
       "  </thead>\n",
       "  <tbody>\n",
       "    <tr>\n",
       "      <th>0</th>\n",
       "      <td>reconstructing subjectspecific effect map pred...</td>\n",
       "      <td>1.0</td>\n",
       "      <td>0.0</td>\n",
       "      <td>0.0</td>\n",
       "      <td>0.0</td>\n",
       "      <td>0.0</td>\n",
       "      <td>0.0</td>\n",
       "    </tr>\n",
       "    <tr>\n",
       "      <th>1</th>\n",
       "      <td>rotation invariance neural network rotation in...</td>\n",
       "      <td>1.0</td>\n",
       "      <td>0.0</td>\n",
       "      <td>0.0</td>\n",
       "      <td>0.0</td>\n",
       "      <td>0.0</td>\n",
       "      <td>0.0</td>\n",
       "    </tr>\n",
       "    <tr>\n",
       "      <th>2</th>\n",
       "      <td>spherical polyharmonics poisson kernel polyhar...</td>\n",
       "      <td>0.0</td>\n",
       "      <td>0.0</td>\n",
       "      <td>1.0</td>\n",
       "      <td>0.0</td>\n",
       "      <td>0.0</td>\n",
       "      <td>0.0</td>\n",
       "    </tr>\n",
       "    <tr>\n",
       "      <th>3</th>\n",
       "      <td>finite element approximation stochastic maxwel...</td>\n",
       "      <td>0.0</td>\n",
       "      <td>0.0</td>\n",
       "      <td>1.0</td>\n",
       "      <td>0.0</td>\n",
       "      <td>0.0</td>\n",
       "      <td>0.0</td>\n",
       "    </tr>\n",
       "    <tr>\n",
       "      <th>4</th>\n",
       "      <td>comparative study discrete wavelet transforms ...</td>\n",
       "      <td>1.0</td>\n",
       "      <td>0.0</td>\n",
       "      <td>0.0</td>\n",
       "      <td>1.0</td>\n",
       "      <td>0.0</td>\n",
       "      <td>0.0</td>\n",
       "    </tr>\n",
       "  </tbody>\n",
       "</table>\n",
       "</div>"
      ],
      "text/plain": [
       "                                                Text  Computer Science  \\\n",
       "0  reconstructing subjectspecific effect map pred...               1.0   \n",
       "1  rotation invariance neural network rotation in...               1.0   \n",
       "2  spherical polyharmonics poisson kernel polyhar...               0.0   \n",
       "3  finite element approximation stochastic maxwel...               0.0   \n",
       "4  comparative study discrete wavelet transforms ...               1.0   \n",
       "\n",
       "   Physics  Mathematics  Statistics  Quantitative Biology  \\\n",
       "0      0.0          0.0         0.0                   0.0   \n",
       "1      0.0          0.0         0.0                   0.0   \n",
       "2      0.0          1.0         0.0                   0.0   \n",
       "3      0.0          1.0         0.0                   0.0   \n",
       "4      0.0          0.0         1.0                   0.0   \n",
       "\n",
       "   Quantitative Finance  \n",
       "0                   0.0  \n",
       "1                   0.0  \n",
       "2                   0.0  \n",
       "3                   0.0  \n",
       "4                   0.0  "
      ]
     },
     "execution_count": 33,
     "metadata": {},
     "output_type": "execute_result"
    }
   ],
   "source": [
    "clean_data=processed_data[['Text','Computer Science','Physics','Mathematics','Statistics','Quantitative Biology','Quantitative Finance']]\n",
    "clean_data.head(5)"
   ]
  },
  {
   "cell_type": "markdown",
   "metadata": {},
   "source": [
    "# Manipulating Dataset \n",
    "\n",
    "We will balance the dataset by maintaining a ratio of atleat 20-80 percentage between true label and false label so that we will overcome the class imbalance issue.\n",
    "\n",
    "Steps involved are:\n",
    "\n",
    "🔹 Split  the whole dataset into 6 categories of one label each.\n",
    "\n",
    "🔹 Balance each of lables in the data set based on 0 and 1 values.\n",
    "\n",
    "🔹 Pickle and CI CD pipe line is established "
   ]
  },
  {
   "cell_type": "code",
   "execution_count": 13,
   "metadata": {},
   "outputs": [
    {
     "data": {
      "text/html": [
       "<div>\n",
       "<style scoped>\n",
       "    .dataframe tbody tr th:only-of-type {\n",
       "        vertical-align: middle;\n",
       "    }\n",
       "\n",
       "    .dataframe tbody tr th {\n",
       "        vertical-align: top;\n",
       "    }\n",
       "\n",
       "    .dataframe thead th {\n",
       "        text-align: right;\n",
       "    }\n",
       "</style>\n",
       "<table border=\"1\" class=\"dataframe\">\n",
       "  <thead>\n",
       "    <tr style=\"text-align: right;\">\n",
       "      <th></th>\n",
       "      <th>Text</th>\n",
       "      <th>Statistics</th>\n",
       "    </tr>\n",
       "  </thead>\n",
       "  <tbody>\n",
       "    <tr>\n",
       "      <th>0</th>\n",
       "      <td>reconstructing subjectspecific effect map pred...</td>\n",
       "      <td>0.0</td>\n",
       "    </tr>\n",
       "    <tr>\n",
       "      <th>1</th>\n",
       "      <td>rotation invariance neural network rotation in...</td>\n",
       "      <td>0.0</td>\n",
       "    </tr>\n",
       "    <tr>\n",
       "      <th>2</th>\n",
       "      <td>spherical polyharmonics poisson kernel polyhar...</td>\n",
       "      <td>0.0</td>\n",
       "    </tr>\n",
       "    <tr>\n",
       "      <th>3</th>\n",
       "      <td>finite element approximation stochastic maxwel...</td>\n",
       "      <td>0.0</td>\n",
       "    </tr>\n",
       "    <tr>\n",
       "      <th>4</th>\n",
       "      <td>comparative study discrete wavelet transforms ...</td>\n",
       "      <td>1.0</td>\n",
       "    </tr>\n",
       "    <tr>\n",
       "      <th>...</th>\n",
       "      <td>...</td>\n",
       "      <td>...</td>\n",
       "    </tr>\n",
       "    <tr>\n",
       "      <th>20967</th>\n",
       "      <td>contemporary machine learning guide practition...</td>\n",
       "      <td>0.0</td>\n",
       "    </tr>\n",
       "    <tr>\n",
       "      <th>20968</th>\n",
       "      <td>uniform diamond coating wcco hard alloy cuttin...</td>\n",
       "      <td>0.0</td>\n",
       "    </tr>\n",
       "    <tr>\n",
       "      <th>20969</th>\n",
       "      <td>analysing soccer game clustering conceptors pr...</td>\n",
       "      <td>0.0</td>\n",
       "    </tr>\n",
       "    <tr>\n",
       "      <th>20970</th>\n",
       "      <td>efficient simulation lefttail sum correlated l...</td>\n",
       "      <td>1.0</td>\n",
       "    </tr>\n",
       "    <tr>\n",
       "      <th>20971</th>\n",
       "      <td>optional stopping problem bayesians recently o...</td>\n",
       "      <td>1.0</td>\n",
       "    </tr>\n",
       "  </tbody>\n",
       "</table>\n",
       "<p>20972 rows × 2 columns</p>\n",
       "</div>"
      ],
      "text/plain": [
       "                                                    Text  Statistics\n",
       "0      reconstructing subjectspecific effect map pred...         0.0\n",
       "1      rotation invariance neural network rotation in...         0.0\n",
       "2      spherical polyharmonics poisson kernel polyhar...         0.0\n",
       "3      finite element approximation stochastic maxwel...         0.0\n",
       "4      comparative study discrete wavelet transforms ...         1.0\n",
       "...                                                  ...         ...\n",
       "20967  contemporary machine learning guide practition...         0.0\n",
       "20968  uniform diamond coating wcco hard alloy cuttin...         0.0\n",
       "20969  analysing soccer game clustering conceptors pr...         0.0\n",
       "20970  efficient simulation lefttail sum correlated l...         1.0\n",
       "20971  optional stopping problem bayesians recently o...         1.0\n",
       "\n",
       "[20972 rows x 2 columns]"
      ]
     },
     "execution_count": 13,
     "metadata": {},
     "output_type": "execute_result"
    }
   ],
   "source": [
    "df_cs=processed_data[['Text','Computer Science']]\n",
    "df_p=processed_data[['Text','Physics']]\n",
    "df_m=processed_data[['Text','Mathematics']]\n",
    "df_s=processed_data[['Text','Statistics']]\n",
    "df_qb=processed_data[['Text','Quantitative Biology']]\n",
    "df_qf=processed_data[['Text','Quantitative Finance']]\n",
    "df_s"
   ]
  },
  {
   "cell_type": "markdown",
   "metadata": {},
   "source": [
    "# Computer Science\n",
    "For Computer Science data we have 10000+ data for 1 so we take 6000 data each for 0 and 1"
   ]
  },
  {
   "cell_type": "code",
   "execution_count": 14,
   "metadata": {},
   "outputs": [
    {
     "data": {
      "text/plain": [
       "(6000, 2)"
      ]
     },
     "execution_count": 14,
     "metadata": {},
     "output_type": "execute_result"
    }
   ],
   "source": [
    "df_cs_1 = df_cs[df_cs['Computer Science'] == 1].iloc[0:6000,:]\n",
    "df_cs_1.shape"
   ]
  },
  {
   "cell_type": "code",
   "execution_count": 15,
   "metadata": {},
   "outputs": [
    {
     "data": {
      "text/plain": [
       "(12000, 2)"
      ]
     },
     "execution_count": 15,
     "metadata": {},
     "output_type": "execute_result"
    }
   ],
   "source": [
    "df_cs_0 = df_cs[df_cs['Computer Science'] == 0].iloc[0:6000,:]\n",
    "df_cs_done = pd.concat([df_cs_1, df_cs_0], axis=0)\n",
    "df_cs_done.shape"
   ]
  },
  {
   "cell_type": "markdown",
   "metadata": {},
   "source": [
    "# Physics\n",
    "For physics  we took 6000 data each for 0 and 1"
   ]
  },
  {
   "cell_type": "code",
   "execution_count": 16,
   "metadata": {},
   "outputs": [
    {
     "data": {
      "text/plain": [
       "Text       6013\n",
       "Physics    6013\n",
       "dtype: int64"
      ]
     },
     "execution_count": 16,
     "metadata": {},
     "output_type": "execute_result"
    }
   ],
   "source": [
    "df_p[df_p['Physics'] == 1].count()\n"
   ]
  },
  {
   "cell_type": "code",
   "execution_count": 17,
   "metadata": {},
   "outputs": [
    {
     "data": {
      "text/html": [
       "<div>\n",
       "<style scoped>\n",
       "    .dataframe tbody tr th:only-of-type {\n",
       "        vertical-align: middle;\n",
       "    }\n",
       "\n",
       "    .dataframe tbody tr th {\n",
       "        vertical-align: top;\n",
       "    }\n",
       "\n",
       "    .dataframe thead th {\n",
       "        text-align: right;\n",
       "    }\n",
       "</style>\n",
       "<table border=\"1\" class=\"dataframe\">\n",
       "  <thead>\n",
       "    <tr style=\"text-align: right;\">\n",
       "      <th></th>\n",
       "      <th>Text</th>\n",
       "      <th>Physics</th>\n",
       "    </tr>\n",
       "  </thead>\n",
       "  <tbody>\n",
       "    <tr>\n",
       "      <th>6</th>\n",
       "      <td>rotation period shape hyperbolic asteroid ioum...</td>\n",
       "      <td>1.0</td>\n",
       "    </tr>\n",
       "    <tr>\n",
       "      <th>7</th>\n",
       "      <td>adverse effect polymer coating heat transport ...</td>\n",
       "      <td>1.0</td>\n",
       "    </tr>\n",
       "    <tr>\n",
       "      <th>8</th>\n",
       "      <td>sph calculation marsscale collision role equat...</td>\n",
       "      <td>1.0</td>\n",
       "    </tr>\n",
       "    <tr>\n",
       "      <th>11</th>\n",
       "      <td>roleseparating ordering social dilemma control...</td>\n",
       "      <td>1.0</td>\n",
       "    </tr>\n",
       "    <tr>\n",
       "      <th>12</th>\n",
       "      <td>dynamic exciton magnetic polarons cdmnsecdmgse...</td>\n",
       "      <td>1.0</td>\n",
       "    </tr>\n",
       "    <tr>\n",
       "      <th>...</th>\n",
       "      <td>...</td>\n",
       "      <td>...</td>\n",
       "    </tr>\n",
       "    <tr>\n",
       "      <th>8359</th>\n",
       "      <td>committee machine computational statistical ga...</td>\n",
       "      <td>0.0</td>\n",
       "    </tr>\n",
       "    <tr>\n",
       "      <th>8361</th>\n",
       "      <td>exponentially small splitting separatrix near ...</td>\n",
       "      <td>0.0</td>\n",
       "    </tr>\n",
       "    <tr>\n",
       "      <th>8362</th>\n",
       "      <td>learning dynamic coevolution competing sexual ...</td>\n",
       "      <td>0.0</td>\n",
       "    </tr>\n",
       "    <tr>\n",
       "      <th>8363</th>\n",
       "      <td>deep neural network multiple speaker detection...</td>\n",
       "      <td>0.0</td>\n",
       "    </tr>\n",
       "    <tr>\n",
       "      <th>8364</th>\n",
       "      <td>active tolerant testing work give first algori...</td>\n",
       "      <td>0.0</td>\n",
       "    </tr>\n",
       "  </tbody>\n",
       "</table>\n",
       "<p>12000 rows × 2 columns</p>\n",
       "</div>"
      ],
      "text/plain": [
       "                                                   Text  Physics\n",
       "6     rotation period shape hyperbolic asteroid ioum...      1.0\n",
       "7     adverse effect polymer coating heat transport ...      1.0\n",
       "8     sph calculation marsscale collision role equat...      1.0\n",
       "11    roleseparating ordering social dilemma control...      1.0\n",
       "12    dynamic exciton magnetic polarons cdmnsecdmgse...      1.0\n",
       "...                                                 ...      ...\n",
       "8359  committee machine computational statistical ga...      0.0\n",
       "8361  exponentially small splitting separatrix near ...      0.0\n",
       "8362  learning dynamic coevolution competing sexual ...      0.0\n",
       "8363  deep neural network multiple speaker detection...      0.0\n",
       "8364  active tolerant testing work give first algori...      0.0\n",
       "\n",
       "[12000 rows x 2 columns]"
      ]
     },
     "execution_count": 17,
     "metadata": {},
     "output_type": "execute_result"
    }
   ],
   "source": [
    "df_phy_1 = df_p[df_p['Physics'] == 1].iloc[0:6000,:]\n",
    "df_phy_0 = df_p[df_p['Physics'] == 0].iloc[0:6000,:]\n",
    "df_phy_done = pd.concat([df_phy_1, df_phy_0], axis=0)\n",
    "df_phy_done.shape\n",
    "df_phy_done"
   ]
  },
  {
   "cell_type": "markdown",
   "metadata": {},
   "source": [
    "# Mathematics\n",
    "For Mathematics  we took 5618 data each for 0 and 1"
   ]
  },
  {
   "cell_type": "code",
   "execution_count": 18,
   "metadata": {},
   "outputs": [
    {
     "data": {
      "text/plain": [
       "Text           5618\n",
       "Mathematics    5618\n",
       "dtype: int64"
      ]
     },
     "execution_count": 18,
     "metadata": {},
     "output_type": "execute_result"
    }
   ],
   "source": [
    "df_m[df_m['Mathematics'] == 1].count()"
   ]
  },
  {
   "cell_type": "code",
   "execution_count": 19,
   "metadata": {},
   "outputs": [
    {
     "data": {
      "text/html": [
       "<div>\n",
       "<style scoped>\n",
       "    .dataframe tbody tr th:only-of-type {\n",
       "        vertical-align: middle;\n",
       "    }\n",
       "\n",
       "    .dataframe tbody tr th {\n",
       "        vertical-align: top;\n",
       "    }\n",
       "\n",
       "    .dataframe thead th {\n",
       "        text-align: right;\n",
       "    }\n",
       "</style>\n",
       "<table border=\"1\" class=\"dataframe\">\n",
       "  <thead>\n",
       "    <tr style=\"text-align: right;\">\n",
       "      <th></th>\n",
       "      <th>Text</th>\n",
       "      <th>Mathematics</th>\n",
       "    </tr>\n",
       "  </thead>\n",
       "  <tbody>\n",
       "    <tr>\n",
       "      <th>2</th>\n",
       "      <td>spherical polyharmonics poisson kernel polyhar...</td>\n",
       "      <td>1.0</td>\n",
       "    </tr>\n",
       "    <tr>\n",
       "      <th>3</th>\n",
       "      <td>finite element approximation stochastic maxwel...</td>\n",
       "      <td>1.0</td>\n",
       "    </tr>\n",
       "    <tr>\n",
       "      <th>5</th>\n",
       "      <td>maximizing fundamental frequency complement ob...</td>\n",
       "      <td>1.0</td>\n",
       "    </tr>\n",
       "    <tr>\n",
       "      <th>15</th>\n",
       "      <td>rank waring decomposition smlangle rangle symm...</td>\n",
       "      <td>1.0</td>\n",
       "    </tr>\n",
       "    <tr>\n",
       "      <th>17</th>\n",
       "      <td>higher structure unstable adam spectral sequen...</td>\n",
       "      <td>1.0</td>\n",
       "    </tr>\n",
       "    <tr>\n",
       "      <th>...</th>\n",
       "      <td>...</td>\n",
       "      <td>...</td>\n",
       "    </tr>\n",
       "    <tr>\n",
       "      <th>7724</th>\n",
       "      <td>asymptotic distribution simultaneous confidenc...</td>\n",
       "      <td>0.0</td>\n",
       "    </tr>\n",
       "    <tr>\n",
       "      <th>7726</th>\n",
       "      <td>projected variational integrator degenerate la...</td>\n",
       "      <td>0.0</td>\n",
       "    </tr>\n",
       "    <tr>\n",
       "      <th>7727</th>\n",
       "      <td>boosted generative model propose novel approac...</td>\n",
       "      <td>0.0</td>\n",
       "    </tr>\n",
       "    <tr>\n",
       "      <th>7729</th>\n",
       "      <td>overlapping community detection using superior...</td>\n",
       "      <td>0.0</td>\n",
       "    </tr>\n",
       "    <tr>\n",
       "      <th>7730</th>\n",
       "      <td>debugging transaction tracking provenance reen...</td>\n",
       "      <td>0.0</td>\n",
       "    </tr>\n",
       "  </tbody>\n",
       "</table>\n",
       "<p>11236 rows × 2 columns</p>\n",
       "</div>"
      ],
      "text/plain": [
       "                                                   Text  Mathematics\n",
       "2     spherical polyharmonics poisson kernel polyhar...          1.0\n",
       "3     finite element approximation stochastic maxwel...          1.0\n",
       "5     maximizing fundamental frequency complement ob...          1.0\n",
       "15    rank waring decomposition smlangle rangle symm...          1.0\n",
       "17    higher structure unstable adam spectral sequen...          1.0\n",
       "...                                                 ...          ...\n",
       "7724  asymptotic distribution simultaneous confidenc...          0.0\n",
       "7726  projected variational integrator degenerate la...          0.0\n",
       "7727  boosted generative model propose novel approac...          0.0\n",
       "7729  overlapping community detection using superior...          0.0\n",
       "7730  debugging transaction tracking provenance reen...          0.0\n",
       "\n",
       "[11236 rows x 2 columns]"
      ]
     },
     "execution_count": 19,
     "metadata": {},
     "output_type": "execute_result"
    }
   ],
   "source": [
    "df_m_1 = df_m[df_m['Mathematics'] == 1].iloc[0:5618,:]\n",
    "df_m_0 = df_m[df_m['Mathematics'] == 0].iloc[0:5618,:]\n",
    "df_m_done = pd.concat([df_m_1, df_m_0], axis=0)\n",
    "df_m_done.shape\n",
    "df_m_done"
   ]
  },
  {
   "cell_type": "markdown",
   "metadata": {},
   "source": [
    "# Statistics\n",
    "For Statistics we took 5206 data each for 0 and 1"
   ]
  },
  {
   "cell_type": "code",
   "execution_count": 20,
   "metadata": {},
   "outputs": [
    {
     "data": {
      "text/plain": [
       "Text          5206\n",
       "Statistics    5206\n",
       "dtype: int64"
      ]
     },
     "execution_count": 20,
     "metadata": {},
     "output_type": "execute_result"
    }
   ],
   "source": [
    "df_s[df_s['Statistics'] == 1].count()"
   ]
  },
  {
   "cell_type": "code",
   "execution_count": 21,
   "metadata": {},
   "outputs": [
    {
     "data": {
      "text/html": [
       "<div>\n",
       "<style scoped>\n",
       "    .dataframe tbody tr th:only-of-type {\n",
       "        vertical-align: middle;\n",
       "    }\n",
       "\n",
       "    .dataframe tbody tr th {\n",
       "        vertical-align: top;\n",
       "    }\n",
       "\n",
       "    .dataframe thead th {\n",
       "        text-align: right;\n",
       "    }\n",
       "</style>\n",
       "<table border=\"1\" class=\"dataframe\">\n",
       "  <thead>\n",
       "    <tr style=\"text-align: right;\">\n",
       "      <th></th>\n",
       "      <th>Text</th>\n",
       "      <th>Statistics</th>\n",
       "    </tr>\n",
       "  </thead>\n",
       "  <tbody>\n",
       "    <tr>\n",
       "      <th>4</th>\n",
       "      <td>comparative study discrete wavelet transforms ...</td>\n",
       "      <td>1.0</td>\n",
       "    </tr>\n",
       "    <tr>\n",
       "      <th>18</th>\n",
       "      <td>comparing covariate prioritization via matchin...</td>\n",
       "      <td>1.0</td>\n",
       "    </tr>\n",
       "    <tr>\n",
       "      <th>28</th>\n",
       "      <td>minimax estimation l distance consider problem...</td>\n",
       "      <td>1.0</td>\n",
       "    </tr>\n",
       "    <tr>\n",
       "      <th>30</th>\n",
       "      <td>mixup beyond empirical risk minimization large...</td>\n",
       "      <td>1.0</td>\n",
       "    </tr>\n",
       "    <tr>\n",
       "      <th>40</th>\n",
       "      <td>covariance robustness variational bayes meanfi...</td>\n",
       "      <td>1.0</td>\n",
       "    </tr>\n",
       "    <tr>\n",
       "      <th>...</th>\n",
       "      <td>...</td>\n",
       "      <td>...</td>\n",
       "    </tr>\n",
       "    <tr>\n",
       "      <th>6971</th>\n",
       "      <td>nonequilibrium work hamiltonian connection mic...</td>\n",
       "      <td>0.0</td>\n",
       "    </tr>\n",
       "    <tr>\n",
       "      <th>6972</th>\n",
       "      <td>thick subcategories stable category module ext...</td>\n",
       "      <td>0.0</td>\n",
       "    </tr>\n",
       "    <tr>\n",
       "      <th>6973</th>\n",
       "      <td>planetdriven spiral arm protoplanetary disk ii...</td>\n",
       "      <td>0.0</td>\n",
       "    </tr>\n",
       "    <tr>\n",
       "      <th>6974</th>\n",
       "      <td>ideal structure pure infiniteness ample groupo...</td>\n",
       "      <td>0.0</td>\n",
       "    </tr>\n",
       "    <tr>\n",
       "      <th>6975</th>\n",
       "      <td>nonparametric mean curvature type flow graph c...</td>\n",
       "      <td>0.0</td>\n",
       "    </tr>\n",
       "  </tbody>\n",
       "</table>\n",
       "<p>10412 rows × 2 columns</p>\n",
       "</div>"
      ],
      "text/plain": [
       "                                                   Text  Statistics\n",
       "4     comparative study discrete wavelet transforms ...         1.0\n",
       "18    comparing covariate prioritization via matchin...         1.0\n",
       "28    minimax estimation l distance consider problem...         1.0\n",
       "30    mixup beyond empirical risk minimization large...         1.0\n",
       "40    covariance robustness variational bayes meanfi...         1.0\n",
       "...                                                 ...         ...\n",
       "6971  nonequilibrium work hamiltonian connection mic...         0.0\n",
       "6972  thick subcategories stable category module ext...         0.0\n",
       "6973  planetdriven spiral arm protoplanetary disk ii...         0.0\n",
       "6974  ideal structure pure infiniteness ample groupo...         0.0\n",
       "6975  nonparametric mean curvature type flow graph c...         0.0\n",
       "\n",
       "[10412 rows x 2 columns]"
      ]
     },
     "execution_count": 21,
     "metadata": {},
     "output_type": "execute_result"
    }
   ],
   "source": [
    "df_s_1 = df_s[df_s['Statistics'] == 1].iloc[0:5206,:]\n",
    "df_s_0 = df_s[df_s['Statistics'] == 0].iloc[0:5206,:]\n",
    "df_s_done = pd.concat([df_s_1, df_s_0], axis=0)\n",
    "df_s_done.shape\n",
    "df_s_done"
   ]
  },
  {
   "cell_type": "markdown",
   "metadata": {},
   "source": [
    "# Quantitative Biology\n",
    "For Quantitative Biology we took 587 data each for 0 and 1"
   ]
  },
  {
   "cell_type": "code",
   "execution_count": 22,
   "metadata": {},
   "outputs": [
    {
     "data": {
      "text/plain": [
       "Text                    587\n",
       "Quantitative Biology    587\n",
       "dtype: int64"
      ]
     },
     "execution_count": 22,
     "metadata": {},
     "output_type": "execute_result"
    }
   ],
   "source": [
    "df_qb[df_qb['Quantitative Biology'] == 1].count()"
   ]
  },
  {
   "cell_type": "code",
   "execution_count": 23,
   "metadata": {},
   "outputs": [
    {
     "data": {
      "text/html": [
       "<div>\n",
       "<style scoped>\n",
       "    .dataframe tbody tr th:only-of-type {\n",
       "        vertical-align: middle;\n",
       "    }\n",
       "\n",
       "    .dataframe tbody tr th {\n",
       "        vertical-align: top;\n",
       "    }\n",
       "\n",
       "    .dataframe thead th {\n",
       "        text-align: right;\n",
       "    }\n",
       "</style>\n",
       "<table border=\"1\" class=\"dataframe\">\n",
       "  <thead>\n",
       "    <tr style=\"text-align: right;\">\n",
       "      <th></th>\n",
       "      <th>Text</th>\n",
       "      <th>Quantitative Biology</th>\n",
       "    </tr>\n",
       "  </thead>\n",
       "  <tbody>\n",
       "    <tr>\n",
       "      <th>9</th>\n",
       "      <td>mathcalr fails predict outbreak potential pres...</td>\n",
       "      <td>1.0</td>\n",
       "    </tr>\n",
       "    <tr>\n",
       "      <th>20</th>\n",
       "      <td>deciphering noise amplification reduction open...</td>\n",
       "      <td>1.0</td>\n",
       "    </tr>\n",
       "    <tr>\n",
       "      <th>33</th>\n",
       "      <td>unsupervised homogenization pipeline clusterin...</td>\n",
       "      <td>1.0</td>\n",
       "    </tr>\n",
       "    <tr>\n",
       "      <th>55</th>\n",
       "      <td>competing evolutionary path growing population...</td>\n",
       "      <td>1.0</td>\n",
       "    </tr>\n",
       "    <tr>\n",
       "      <th>115</th>\n",
       "      <td>gene regulatory network inference introductory...</td>\n",
       "      <td>1.0</td>\n",
       "    </tr>\n",
       "    <tr>\n",
       "      <th>...</th>\n",
       "      <td>...</td>\n",
       "      <td>...</td>\n",
       "    </tr>\n",
       "    <tr>\n",
       "      <th>2418</th>\n",
       "      <td>streaming kernel pca tildeosqrtn random featur...</td>\n",
       "      <td>0.0</td>\n",
       "    </tr>\n",
       "    <tr>\n",
       "      <th>2419</th>\n",
       "      <td>universal protocol information dissemination u...</td>\n",
       "      <td>0.0</td>\n",
       "    </tr>\n",
       "    <tr>\n",
       "      <th>2420</th>\n",
       "      <td>note specie realization nondegeneracy potentia...</td>\n",
       "      <td>0.0</td>\n",
       "    </tr>\n",
       "    <tr>\n",
       "      <th>2421</th>\n",
       "      <td>unified stochastic formulation dissipative qua...</td>\n",
       "      <td>0.0</td>\n",
       "    </tr>\n",
       "    <tr>\n",
       "      <th>2422</th>\n",
       "      <td>vortex state spin texture rotating spinorbitco...</td>\n",
       "      <td>0.0</td>\n",
       "    </tr>\n",
       "  </tbody>\n",
       "</table>\n",
       "<p>2935 rows × 2 columns</p>\n",
       "</div>"
      ],
      "text/plain": [
       "                                                   Text  Quantitative Biology\n",
       "9     mathcalr fails predict outbreak potential pres...                   1.0\n",
       "20    deciphering noise amplification reduction open...                   1.0\n",
       "33    unsupervised homogenization pipeline clusterin...                   1.0\n",
       "55    competing evolutionary path growing population...                   1.0\n",
       "115   gene regulatory network inference introductory...                   1.0\n",
       "...                                                 ...                   ...\n",
       "2418  streaming kernel pca tildeosqrtn random featur...                   0.0\n",
       "2419  universal protocol information dissemination u...                   0.0\n",
       "2420  note specie realization nondegeneracy potentia...                   0.0\n",
       "2421  unified stochastic formulation dissipative qua...                   0.0\n",
       "2422  vortex state spin texture rotating spinorbitco...                   0.0\n",
       "\n",
       "[2935 rows x 2 columns]"
      ]
     },
     "execution_count": 23,
     "metadata": {},
     "output_type": "execute_result"
    }
   ],
   "source": [
    "df_qb_1 = df_qb[df_qb['Quantitative Biology'] == 1].iloc[0:587,:]\n",
    "df_qb_0 = df_qb[df_qb['Quantitative Biology'] == 0].iloc[0:2348,:]\n",
    "df_qb_done = pd.concat([df_qb_1, df_qb_0], axis=0)\n",
    "df_qb_done.shape\n",
    "df_qb_done"
   ]
  },
  {
   "cell_type": "markdown",
   "metadata": {},
   "source": [
    "# Quantitative Finance\n",
    "For Quantitative Finance we took 249 data each for 0 and 1"
   ]
  },
  {
   "cell_type": "code",
   "execution_count": 24,
   "metadata": {},
   "outputs": [
    {
     "data": {
      "text/plain": [
       "Text                    249\n",
       "Quantitative Finance    249\n",
       "dtype: int64"
      ]
     },
     "execution_count": 24,
     "metadata": {},
     "output_type": "execute_result"
    }
   ],
   "source": [
    "df_qf[df_qf['Quantitative Finance'] == 1].count()"
   ]
  },
  {
   "cell_type": "code",
   "execution_count": 25,
   "metadata": {},
   "outputs": [
    {
     "data": {
      "text/html": [
       "<div>\n",
       "<style scoped>\n",
       "    .dataframe tbody tr th:only-of-type {\n",
       "        vertical-align: middle;\n",
       "    }\n",
       "\n",
       "    .dataframe tbody tr th {\n",
       "        vertical-align: top;\n",
       "    }\n",
       "\n",
       "    .dataframe thead th {\n",
       "        text-align: right;\n",
       "    }\n",
       "</style>\n",
       "<table border=\"1\" class=\"dataframe\">\n",
       "  <thead>\n",
       "    <tr style=\"text-align: right;\">\n",
       "      <th></th>\n",
       "      <th>Text</th>\n",
       "      <th>Quantitative Finance</th>\n",
       "    </tr>\n",
       "  </thead>\n",
       "  <tbody>\n",
       "    <tr>\n",
       "      <th>41</th>\n",
       "      <td>multifactor gaussian term structure model stil...</td>\n",
       "      <td>1.0</td>\n",
       "    </tr>\n",
       "    <tr>\n",
       "      <th>266</th>\n",
       "      <td>high dimensional estimation multifactor model ...</td>\n",
       "      <td>1.0</td>\n",
       "    </tr>\n",
       "    <tr>\n",
       "      <th>268</th>\n",
       "      <td>expanded local variance gamma model paper prop...</td>\n",
       "      <td>1.0</td>\n",
       "    </tr>\n",
       "    <tr>\n",
       "      <th>492</th>\n",
       "      <td>psychological model investor manager behavior ...</td>\n",
       "      <td>1.0</td>\n",
       "    </tr>\n",
       "    <tr>\n",
       "      <th>622</th>\n",
       "      <td>failure smooth pasting principle nonexistence ...</td>\n",
       "      <td>1.0</td>\n",
       "    </tr>\n",
       "    <tr>\n",
       "      <th>...</th>\n",
       "      <td>...</td>\n",
       "      <td>...</td>\n",
       "    </tr>\n",
       "    <tr>\n",
       "      <th>1003</th>\n",
       "      <td>high temperature thermodynamics honeycomblatti...</td>\n",
       "      <td>0.0</td>\n",
       "    </tr>\n",
       "    <tr>\n",
       "      <th>1004</th>\n",
       "      <td>laplace beltrami operator baran metric pluripo...</td>\n",
       "      <td>0.0</td>\n",
       "    </tr>\n",
       "    <tr>\n",
       "      <th>1005</th>\n",
       "      <td>magnetic polarons nonequilibrium polariton con...</td>\n",
       "      <td>0.0</td>\n",
       "    </tr>\n",
       "    <tr>\n",
       "      <th>1006</th>\n",
       "      <td>inference sparse graph pairwise measurement si...</td>\n",
       "      <td>0.0</td>\n",
       "    </tr>\n",
       "    <tr>\n",
       "      <th>1007</th>\n",
       "      <td>oracle importance sampling stochastic simulati...</td>\n",
       "      <td>0.0</td>\n",
       "    </tr>\n",
       "  </tbody>\n",
       "</table>\n",
       "<p>1245 rows × 2 columns</p>\n",
       "</div>"
      ],
      "text/plain": [
       "                                                   Text  Quantitative Finance\n",
       "41    multifactor gaussian term structure model stil...                   1.0\n",
       "266   high dimensional estimation multifactor model ...                   1.0\n",
       "268   expanded local variance gamma model paper prop...                   1.0\n",
       "492   psychological model investor manager behavior ...                   1.0\n",
       "622   failure smooth pasting principle nonexistence ...                   1.0\n",
       "...                                                 ...                   ...\n",
       "1003  high temperature thermodynamics honeycomblatti...                   0.0\n",
       "1004  laplace beltrami operator baran metric pluripo...                   0.0\n",
       "1005  magnetic polarons nonequilibrium polariton con...                   0.0\n",
       "1006  inference sparse graph pairwise measurement si...                   0.0\n",
       "1007  oracle importance sampling stochastic simulati...                   0.0\n",
       "\n",
       "[1245 rows x 2 columns]"
      ]
     },
     "execution_count": 25,
     "metadata": {},
     "output_type": "execute_result"
    }
   ],
   "source": [
    "df_qf_1 = df_qf[df_qf['Quantitative Finance'] == 1].iloc[0:249,:]\n",
    "df_qf_0 = df_qf[df_qf['Quantitative Finance'] == 0].iloc[0:996,:]\n",
    "df_qf_done = pd.concat([df_qf_1, df_qf_0], axis=0)\n",
    "df_qf_done.shape\n",
    "df_qf_done"
   ]
  },
  {
   "cell_type": "markdown",
   "metadata": {},
   "source": [
    "# Performance of the Classifier"
   ]
  },
  {
   "attachments": {},
   "cell_type": "markdown",
   "metadata": {},
   "source": [
    "\n",
    "\n",
    "\n",
    "\n",
    "Example : \n",
    "\n",
    "Input Text\n",
    "\n",
    "\"In machine learning, the task of classification means to use the available data to learn a function which can assign a category to a data point. For example, assign a genre to a movie, like \"Romantic Comedy\", \"Action\", \"Thriller\". Another example could be automatically assigning a category to news articles, like \"Sports\" and \"Politics\".\"\n",
    "\n",
    "OutPut Predictions percentage:\n",
    "\n",
    "🔹 Computer Science,  0.53\n",
    "\n",
    "🔹 Physics   0.07, \n",
    "\n",
    "🔹 Mathematics 0.22, \n",
    "\n",
    "🔹 Statistics 0.77, \n",
    "\n",
    "🔹 Quantitative Biology 0.15,\n",
    "\n",
    "🔹 Quantitative Finance' 0.11\n",
    " \t           \t    \t     \t            \t                 \n",
    "\n",
    "\n",
    "\n",
    "\n",
    "\n"
   ]
  },
  {
   "cell_type": "markdown",
   "metadata": {},
   "source": [
    "# Pickling\n",
    "\n",
    "Pickle renders Python object structures in serial and de-serialized formats. You can pickle any object in Python to save it on disk. Pickle first \"serializes\" the object before writing it to file.Python pickling is the process of converting a python object (list, dict, etc.) into a character stream. This character stream contains all the information needed to reconstruct the object in another python script."
   ]
  },
  {
   "cell_type": "code",
   "execution_count": 26,
   "metadata": {},
   "outputs": [],
   "source": [
    "import pickle\n",
    "\n",
    "from sklearn.linear_model import LogisticRegression\n",
    "from sklearn.multiclass import OneVsRestClassifier\n",
    "def pickle_model(df, label):\n",
    "    \n",
    "    X = df.Text\n",
    "    y = df[label]\n",
    "\n",
    "    # Initiate a Tfidf vectorizer\n",
    "    tfv = TfidfVectorizer(ngram_range=(1,1), stop_words='english')\n",
    "    \n",
    "    # Convert the X data into a document term matrix dataframe\n",
    "    X_vect = tfv.fit_transform(X)  \n",
    "    \n",
    "    # saves the column labels (ie. the vocabulary)\n",
    "    # wb means Writing to the file in Binary mode, written in byte objects\n",
    "    with open(r\"{}.pkl\".format('_pickles/'+label + '_vect'), \"wb\") as f:   \n",
    "        pickle.dump(tfv, f)   \n",
    "        \n",
    "    #randomforest = RandomForestClassifier(n_estimators=100, random_state=42)\n",
    "    #randomforest.fit(X_vect, y)\n",
    "    \n",
    "    # define model\n",
    "    model = LogisticRegression()\n",
    "    # define the ovr strategy\n",
    "    logR = OneVsRestClassifier(model)\n",
    "    # fit model\n",
    "    logR.fit(X_vect,y)\n",
    "    \n",
    "\n",
    "    # Create a new pickle file based on random forest\n",
    "    with open(r\"{}.pkl\".format('_pickles/'+label + '_model'), \"wb\") as f:  \n",
    "        pickle.dump(logR, f)"
   ]
  },
  {
   "cell_type": "code",
   "execution_count": 28,
   "metadata": {},
   "outputs": [],
   "source": [
    "datalist = [df_cs_done, df_phy_done, df_m_done, df_s_done, df_qb_done, df_qf_done]\n",
    "label = ['Computer Science','Physics','Mathematics','Statistics','Quantitative Biology','Quantitative Finance']\n",
    "\n",
    "for i,j in zip(datalist,label):\n",
    "    pickle_model(i, j)"
   ]
  },
  {
   "cell_type": "code",
   "execution_count": null,
   "metadata": {},
   "outputs": [],
   "source": []
  },
  {
   "cell_type": "markdown",
   "metadata": {},
   "source": [
    "# CI CD Pipeline\n",
    "\n",
    "\n",
    "\n",
    "The CI CD stands for Continuous Integration and Continuous Delivery.A practical application of Continuous Integration is to implement small changes, and have the code check in to repositories frequently. This ensures that the code developed across different platforms is integrated. Continuous Delivery involves automation of delivery to selected infrastructure environments.Thus, the code is pushed automatically."
   ]
  },
  {
   "cell_type": "code",
   "execution_count": 29,
   "metadata": {},
   "outputs": [],
   "source": [
    "from sklearn.pipeline import Pipeline\n",
    "from joblib import dump"
   ]
  },
  {
   "cell_type": "code",
   "execution_count": 30,
   "metadata": {},
   "outputs": [],
   "source": [
    "\n",
    "pipeline = Pipeline(steps= [('tfidf', TfidfVectorizer(min_df=5, max_df=0.9, token_pattern = '(\\S+)',max_features=10000,ngram_range=(1,2), stop_words=stopwords.words('english'))),\n",
    "                            ('model', LogisticRegression())])"
   ]
  },
  {
   "cell_type": "code",
   "execution_count": 31,
   "metadata": {},
   "outputs": [],
   "source": [
    "def create_pipeline(df, label,pipeline):\n",
    "    \n",
    "    X = df.Text\n",
    "    y = df[label]\n",
    "    filename=r\"{}.joblib\".format('_Pipelines/'+label + '_pipeline')\n",
    "    dump(pipeline, filename=filename)"
   ]
  },
  {
   "cell_type": "code",
   "execution_count": 32,
   "metadata": {},
   "outputs": [],
   "source": [
    "for i,j in zip(datalist,label):\n",
    "    create_pipeline(i, j,pipeline)"
   ]
  },
  {
   "cell_type": "markdown",
   "metadata": {},
   "source": [
    "# Conclusion"
   ]
  },
  {
   "cell_type": "markdown",
   "metadata": {},
   "source": [
    " The deployed model has a 64% accuracy which is not the best that can be achieved improve its performance the data set can be processed using better vectorization techniques like word embodding,word2vec,doc2vec and better training models like neural network can be used.\n",
    "\n",
    "The training data seta can be improved by including more data for all the labels to avoid the imbalance issue also memorizing the data saved from user inputs including more features with higher engrams\n",
    "\n",
    "Improve the prediction ability in which the model can recognize the subject context and evaluate the content probability of the whole sentence rather than by specific words\n"
   ]
  },
  {
   "cell_type": "code",
   "execution_count": null,
   "metadata": {},
   "outputs": [],
   "source": []
  }
 ],
 "metadata": {
  "kernelspec": {
   "display_name": "Python 3",
   "language": "python",
   "name": "python3"
  },
  "language_info": {
   "codemirror_mode": {
    "name": "ipython",
    "version": 3
   },
   "file_extension": ".py",
   "mimetype": "text/x-python",
   "name": "python",
   "nbconvert_exporter": "python",
   "pygments_lexer": "ipython3",
   "version": "3.8.5"
  }
 },
 "nbformat": 4,
 "nbformat_minor": 5
}
