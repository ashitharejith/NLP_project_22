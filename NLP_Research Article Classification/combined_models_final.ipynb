{
 "cells": [
  {
   "cell_type": "markdown",
   "metadata": {},
   "source": [
    "# Natural Language Processing (COMM061)\n",
    "\n",
    "**Part 1**\n",
    "\n"
   ]
  },
  {
   "cell_type": "markdown",
   "metadata": {},
   "source": [
    "# GROUP 21\n",
    "\n",
    "\n",
    "**TEAM MEMBERS: KRISHNAKUMAR KANNAN, ASHITHA REJITH, ARAVIND RAJU**"
   ]
  },
  {
   "cell_type": "markdown",
   "metadata": {},
   "source": [
    "#  Model Comparision"
   ]
  },
  {
   "cell_type": "markdown",
   "metadata": {},
   "source": [
    "In this python notebook we are combining all the models that was done individually, namely: \n",
    "\n",
    "🔹 Logistic Regression \n",
    "\n",
    "🔹 Decision Tree \n",
    "\n",
    "🔹 Random Forest \n",
    "\n",
    "🔹 Support Vector Classification \n",
    "\n",
    "🔹 Complement Naive Bayes \n",
    "\n",
    "🔹 Multinomial Naive Bayes . \n",
    "\n",
    "Initial text cleaning is done as necessary, stopwords, special characters were removed, text was tokenized, lemmatised and then combined together. Data was split using hold out method- test-train split using 80-20 ratio. Later they were vectorized using TF-IDF vectorizer, and then fed into each of the models. The final model with highest accuracy is indicated as the conclusion. "
   ]
  },
  {
   "cell_type": "code",
   "execution_count": 1,
   "metadata": {},
   "outputs": [],
   "source": [
    "#importing libraries\n",
    "\n",
    "import numpy as np  \n",
    "import pandas as pd\n",
    "import re\n",
    "import matplotlib.pyplot as plt\n",
    "import seaborn as sns"
   ]
  },
  {
   "cell_type": "code",
   "execution_count": 2,
   "metadata": {},
   "outputs": [],
   "source": [
    "df = pd.read_csv('Research_Article_train.csv') #reading the csv file"
   ]
  },
  {
   "cell_type": "code",
   "execution_count": 3,
   "metadata": {},
   "outputs": [
    {
     "data": {
      "text/html": [
       "<div>\n",
       "<style scoped>\n",
       "    .dataframe tbody tr th:only-of-type {\n",
       "        vertical-align: middle;\n",
       "    }\n",
       "\n",
       "    .dataframe tbody tr th {\n",
       "        vertical-align: top;\n",
       "    }\n",
       "\n",
       "    .dataframe thead th {\n",
       "        text-align: right;\n",
       "    }\n",
       "</style>\n",
       "<table border=\"1\" class=\"dataframe\">\n",
       "  <thead>\n",
       "    <tr style=\"text-align: right;\">\n",
       "      <th></th>\n",
       "      <th>ID</th>\n",
       "      <th>TITLE</th>\n",
       "      <th>ABSTRACT</th>\n",
       "      <th>Computer Science</th>\n",
       "      <th>Physics</th>\n",
       "      <th>Mathematics</th>\n",
       "      <th>Statistics</th>\n",
       "      <th>Quantitative Biology</th>\n",
       "      <th>Quantitative Finance</th>\n",
       "    </tr>\n",
       "  </thead>\n",
       "  <tbody>\n",
       "    <tr>\n",
       "      <th>0</th>\n",
       "      <td>1</td>\n",
       "      <td>Reconstructing Subject-Specific Effect Maps</td>\n",
       "      <td>Predictive models allow subject-specific inf...</td>\n",
       "      <td>1</td>\n",
       "      <td>0</td>\n",
       "      <td>0</td>\n",
       "      <td>0</td>\n",
       "      <td>0</td>\n",
       "      <td>0</td>\n",
       "    </tr>\n",
       "    <tr>\n",
       "      <th>1</th>\n",
       "      <td>2</td>\n",
       "      <td>Rotation Invariance Neural Network</td>\n",
       "      <td>Rotation invariance and translation invarian...</td>\n",
       "      <td>1</td>\n",
       "      <td>0</td>\n",
       "      <td>0</td>\n",
       "      <td>0</td>\n",
       "      <td>0</td>\n",
       "      <td>0</td>\n",
       "    </tr>\n",
       "    <tr>\n",
       "      <th>2</th>\n",
       "      <td>3</td>\n",
       "      <td>Spherical polyharmonics and Poisson kernels fo...</td>\n",
       "      <td>We introduce and develop the notion of spher...</td>\n",
       "      <td>0</td>\n",
       "      <td>0</td>\n",
       "      <td>1</td>\n",
       "      <td>0</td>\n",
       "      <td>0</td>\n",
       "      <td>0</td>\n",
       "    </tr>\n",
       "    <tr>\n",
       "      <th>3</th>\n",
       "      <td>4</td>\n",
       "      <td>A finite element approximation for the stochas...</td>\n",
       "      <td>The stochastic Landau--Lifshitz--Gilbert (LL...</td>\n",
       "      <td>0</td>\n",
       "      <td>0</td>\n",
       "      <td>1</td>\n",
       "      <td>0</td>\n",
       "      <td>0</td>\n",
       "      <td>0</td>\n",
       "    </tr>\n",
       "    <tr>\n",
       "      <th>4</th>\n",
       "      <td>5</td>\n",
       "      <td>Comparative study of Discrete Wavelet Transfor...</td>\n",
       "      <td>Fourier-transform infra-red (FTIR) spectra o...</td>\n",
       "      <td>1</td>\n",
       "      <td>0</td>\n",
       "      <td>0</td>\n",
       "      <td>1</td>\n",
       "      <td>0</td>\n",
       "      <td>0</td>\n",
       "    </tr>\n",
       "  </tbody>\n",
       "</table>\n",
       "</div>"
      ],
      "text/plain": [
       "   ID                                              TITLE  \\\n",
       "0   1        Reconstructing Subject-Specific Effect Maps   \n",
       "1   2                 Rotation Invariance Neural Network   \n",
       "2   3  Spherical polyharmonics and Poisson kernels fo...   \n",
       "3   4  A finite element approximation for the stochas...   \n",
       "4   5  Comparative study of Discrete Wavelet Transfor...   \n",
       "\n",
       "                                            ABSTRACT  Computer Science  \\\n",
       "0    Predictive models allow subject-specific inf...                 1   \n",
       "1    Rotation invariance and translation invarian...                 1   \n",
       "2    We introduce and develop the notion of spher...                 0   \n",
       "3    The stochastic Landau--Lifshitz--Gilbert (LL...                 0   \n",
       "4    Fourier-transform infra-red (FTIR) spectra o...                 1   \n",
       "\n",
       "   Physics  Mathematics  Statistics  Quantitative Biology  \\\n",
       "0        0            0           0                     0   \n",
       "1        0            0           0                     0   \n",
       "2        0            1           0                     0   \n",
       "3        0            1           0                     0   \n",
       "4        0            0           1                     0   \n",
       "\n",
       "   Quantitative Finance  \n",
       "0                     0  \n",
       "1                     0  \n",
       "2                     0  \n",
       "3                     0  \n",
       "4                     0  "
      ]
     },
     "execution_count": 3,
     "metadata": {},
     "output_type": "execute_result"
    }
   ],
   "source": [
    "df.head() #displaying the first 5 elements of the dataframe"
   ]
  },
  {
   "cell_type": "code",
   "execution_count": 4,
   "metadata": {},
   "outputs": [
    {
     "data": {
      "text/html": [
       "<div>\n",
       "<style scoped>\n",
       "    .dataframe tbody tr th:only-of-type {\n",
       "        vertical-align: middle;\n",
       "    }\n",
       "\n",
       "    .dataframe tbody tr th {\n",
       "        vertical-align: top;\n",
       "    }\n",
       "\n",
       "    .dataframe thead th {\n",
       "        text-align: right;\n",
       "    }\n",
       "</style>\n",
       "<table border=\"1\" class=\"dataframe\">\n",
       "  <thead>\n",
       "    <tr style=\"text-align: right;\">\n",
       "      <th></th>\n",
       "      <th>Computer Science</th>\n",
       "      <th>Physics</th>\n",
       "      <th>Mathematics</th>\n",
       "      <th>Statistics</th>\n",
       "      <th>Quantitative Biology</th>\n",
       "      <th>Quantitative Finance</th>\n",
       "      <th>text</th>\n",
       "    </tr>\n",
       "  </thead>\n",
       "  <tbody>\n",
       "    <tr>\n",
       "      <th>0</th>\n",
       "      <td>1</td>\n",
       "      <td>0</td>\n",
       "      <td>0</td>\n",
       "      <td>0</td>\n",
       "      <td>0</td>\n",
       "      <td>0</td>\n",
       "      <td>Reconstructing Subject-Specific Effect Maps   ...</td>\n",
       "    </tr>\n",
       "    <tr>\n",
       "      <th>1</th>\n",
       "      <td>1</td>\n",
       "      <td>0</td>\n",
       "      <td>0</td>\n",
       "      <td>0</td>\n",
       "      <td>0</td>\n",
       "      <td>0</td>\n",
       "      <td>Rotation Invariance Neural Network   Rotation ...</td>\n",
       "    </tr>\n",
       "    <tr>\n",
       "      <th>2</th>\n",
       "      <td>0</td>\n",
       "      <td>0</td>\n",
       "      <td>1</td>\n",
       "      <td>0</td>\n",
       "      <td>0</td>\n",
       "      <td>0</td>\n",
       "      <td>Spherical polyharmonics and Poisson kernels fo...</td>\n",
       "    </tr>\n",
       "    <tr>\n",
       "      <th>3</th>\n",
       "      <td>0</td>\n",
       "      <td>0</td>\n",
       "      <td>1</td>\n",
       "      <td>0</td>\n",
       "      <td>0</td>\n",
       "      <td>0</td>\n",
       "      <td>A finite element approximation for the stochas...</td>\n",
       "    </tr>\n",
       "    <tr>\n",
       "      <th>4</th>\n",
       "      <td>1</td>\n",
       "      <td>0</td>\n",
       "      <td>0</td>\n",
       "      <td>1</td>\n",
       "      <td>0</td>\n",
       "      <td>0</td>\n",
       "      <td>Comparative study of Discrete Wavelet Transfor...</td>\n",
       "    </tr>\n",
       "  </tbody>\n",
       "</table>\n",
       "</div>"
      ],
      "text/plain": [
       "   Computer Science  Physics  Mathematics  Statistics  Quantitative Biology  \\\n",
       "0                 1        0            0           0                     0   \n",
       "1                 1        0            0           0                     0   \n",
       "2                 0        0            1           0                     0   \n",
       "3                 0        0            1           0                     0   \n",
       "4                 1        0            0           1                     0   \n",
       "\n",
       "   Quantitative Finance                                               text  \n",
       "0                     0  Reconstructing Subject-Specific Effect Maps   ...  \n",
       "1                     0  Rotation Invariance Neural Network   Rotation ...  \n",
       "2                     0  Spherical polyharmonics and Poisson kernels fo...  \n",
       "3                     0  A finite element approximation for the stochas...  \n",
       "4                     0  Comparative study of Discrete Wavelet Transfor...  "
      ]
     },
     "execution_count": 4,
     "metadata": {},
     "output_type": "execute_result"
    }
   ],
   "source": [
    "df['text'] = df['TITLE']+\" \" + df['ABSTRACT']                     #combining abstract and title into a single text\n",
    "df.drop(['ID','TITLE','ABSTRACT'], inplace = True, axis = 1)\n",
    "df.head()"
   ]
  },
  {
   "cell_type": "markdown",
   "metadata": {},
   "source": [
    "# Pre-processing the data"
   ]
  },
  {
   "cell_type": "code",
   "execution_count": 5,
   "metadata": {
    "scrolled": true
   },
   "outputs": [],
   "source": [
    "from nltk.tokenize import TreebankWordTokenizer    #tokenizing\n",
    "tree_tokeniser=TreebankWordTokenizer()"
   ]
  },
  {
   "cell_type": "code",
   "execution_count": 6,
   "metadata": {},
   "outputs": [],
   "source": [
    "from nltk.stem import WordNetLemmatizer     #Word net Lemmatizer\n",
    "def lema_text(text):\n",
    "    lematized_text=[WordNetLemmatizer().lemmatize(i) for i in text]\n",
    "    return lematized_text"
   ]
  },
  {
   "cell_type": "code",
   "execution_count": 7,
   "metadata": {},
   "outputs": [],
   "source": [
    "from nltk.corpus import stopwords            # importing stopwords\n",
    "stop_words=set(stopwords.words('english'))\n",
    "\n",
    "\n",
    "def cleaning_stopwords(text):\n",
    "    no_stopword_text = [w for w in text.split() if not w in stop_words]\n",
    "    return ' '.join(no_stopword_text)\n"
   ]
  },
  {
   "cell_type": "code",
   "execution_count": 8,
   "metadata": {},
   "outputs": [],
   "source": [
    "def pre_processing(df,text, cleaned_text):\n",
    "    df[cleaned_text]=df[text].str.lower()  #making each word to lowercase\n",
    "    df[cleaned_text]=df[cleaned_text].apply(lambda strip: re.sub(r\"(@[A-Za-z0-9]+)|([^0-9A-Za-z \\t])|(\\w+:\\/\\/\\S+)|^rt|http.+?\", \"\",strip))\n",
    "    df[cleaned_text]=df[cleaned_text].apply(lambda strip: re.sub(r\"\\d+\", \"\",strip))\n",
    "    df[cleaned_text]=df[cleaned_text].apply(lambda s:' '.join([word for word in s.split() if word not in (stop_words)]))\n",
    "    df[cleaned_text]=df[cleaned_text].apply(lambda s: tree_tokeniser.tokenize(s))\n",
    "    df[cleaned_text]=df[cleaned_text].apply(lambda s: lema_text(s))\n",
    "    df[cleaned_text]=df[cleaned_text].apply(lambda s: ' '.join(s))\n",
    "    return df"
   ]
  },
  {
   "cell_type": "code",
   "execution_count": 9,
   "metadata": {},
   "outputs": [
    {
     "data": {
      "text/html": [
       "<div>\n",
       "<style scoped>\n",
       "    .dataframe tbody tr th:only-of-type {\n",
       "        vertical-align: middle;\n",
       "    }\n",
       "\n",
       "    .dataframe tbody tr th {\n",
       "        vertical-align: top;\n",
       "    }\n",
       "\n",
       "    .dataframe thead th {\n",
       "        text-align: right;\n",
       "    }\n",
       "</style>\n",
       "<table border=\"1\" class=\"dataframe\">\n",
       "  <thead>\n",
       "    <tr style=\"text-align: right;\">\n",
       "      <th></th>\n",
       "      <th>Computer Science</th>\n",
       "      <th>Physics</th>\n",
       "      <th>Mathematics</th>\n",
       "      <th>Statistics</th>\n",
       "      <th>Quantitative Biology</th>\n",
       "      <th>Quantitative Finance</th>\n",
       "      <th>text</th>\n",
       "      <th>cleaned_text</th>\n",
       "    </tr>\n",
       "  </thead>\n",
       "  <tbody>\n",
       "    <tr>\n",
       "      <th>0</th>\n",
       "      <td>1</td>\n",
       "      <td>0</td>\n",
       "      <td>0</td>\n",
       "      <td>0</td>\n",
       "      <td>0</td>\n",
       "      <td>0</td>\n",
       "      <td>Reconstructing Subject-Specific Effect Maps   ...</td>\n",
       "      <td>reconstructing subjectspecific effect map pred...</td>\n",
       "    </tr>\n",
       "    <tr>\n",
       "      <th>1</th>\n",
       "      <td>1</td>\n",
       "      <td>0</td>\n",
       "      <td>0</td>\n",
       "      <td>0</td>\n",
       "      <td>0</td>\n",
       "      <td>0</td>\n",
       "      <td>Rotation Invariance Neural Network   Rotation ...</td>\n",
       "      <td>rotation invariance neural network rotation in...</td>\n",
       "    </tr>\n",
       "    <tr>\n",
       "      <th>2</th>\n",
       "      <td>0</td>\n",
       "      <td>0</td>\n",
       "      <td>1</td>\n",
       "      <td>0</td>\n",
       "      <td>0</td>\n",
       "      <td>0</td>\n",
       "      <td>Spherical polyharmonics and Poisson kernels fo...</td>\n",
       "      <td>spherical polyharmonics poisson kernel polyhar...</td>\n",
       "    </tr>\n",
       "    <tr>\n",
       "      <th>3</th>\n",
       "      <td>0</td>\n",
       "      <td>0</td>\n",
       "      <td>1</td>\n",
       "      <td>0</td>\n",
       "      <td>0</td>\n",
       "      <td>0</td>\n",
       "      <td>A finite element approximation for the stochas...</td>\n",
       "      <td>finite element approximation stochastic maxwel...</td>\n",
       "    </tr>\n",
       "    <tr>\n",
       "      <th>4</th>\n",
       "      <td>1</td>\n",
       "      <td>0</td>\n",
       "      <td>0</td>\n",
       "      <td>1</td>\n",
       "      <td>0</td>\n",
       "      <td>0</td>\n",
       "      <td>Comparative study of Discrete Wavelet Transfor...</td>\n",
       "      <td>comparative study discrete wavelet transforms ...</td>\n",
       "    </tr>\n",
       "  </tbody>\n",
       "</table>\n",
       "</div>"
      ],
      "text/plain": [
       "   Computer Science  Physics  Mathematics  Statistics  Quantitative Biology  \\\n",
       "0                 1        0            0           0                     0   \n",
       "1                 1        0            0           0                     0   \n",
       "2                 0        0            1           0                     0   \n",
       "3                 0        0            1           0                     0   \n",
       "4                 1        0            0           1                     0   \n",
       "\n",
       "   Quantitative Finance                                               text  \\\n",
       "0                     0  Reconstructing Subject-Specific Effect Maps   ...   \n",
       "1                     0  Rotation Invariance Neural Network   Rotation ...   \n",
       "2                     0  Spherical polyharmonics and Poisson kernels fo...   \n",
       "3                     0  A finite element approximation for the stochas...   \n",
       "4                     0  Comparative study of Discrete Wavelet Transfor...   \n",
       "\n",
       "                                        cleaned_text  \n",
       "0  reconstructing subjectspecific effect map pred...  \n",
       "1  rotation invariance neural network rotation in...  \n",
       "2  spherical polyharmonics poisson kernel polyhar...  \n",
       "3  finite element approximation stochastic maxwel...  \n",
       "4  comparative study discrete wavelet transforms ...  "
      ]
     },
     "execution_count": 9,
     "metadata": {},
     "output_type": "execute_result"
    }
   ],
   "source": [
    "df_new = pre_processing(df,'text','cleaned_text')\n",
    "df_new.head()"
   ]
  },
  {
   "cell_type": "code",
   "execution_count": 10,
   "metadata": {},
   "outputs": [
    {
     "data": {
      "text/plain": [
       "0        reconstructing subjectspecific effect map pred...\n",
       "1        rotation invariance neural network rotation in...\n",
       "2        spherical polyharmonics poisson kernel polyhar...\n",
       "3        finite element approximation stochastic maxwel...\n",
       "4        comparative study discrete wavelet transforms ...\n",
       "                               ...                        \n",
       "20967    contemporary machine learning guide practition...\n",
       "20968    uniform diamond coating wcco hard alloy cuttin...\n",
       "20969    analysing soccer game clustering conceptors pr...\n",
       "20970    efficient simulation lefttail sum correlated l...\n",
       "20971    optional stopping problem bayesians recently o...\n",
       "Name: cleaned_text, Length: 20972, dtype: object"
      ]
     },
     "execution_count": 10,
     "metadata": {},
     "output_type": "execute_result"
    }
   ],
   "source": [
    "x=df_new.iloc[:,7] #selecting the input labels - x\n",
    "x"
   ]
  },
  {
   "cell_type": "code",
   "execution_count": 11,
   "metadata": {},
   "outputs": [
    {
     "data": {
      "text/html": [
       "<div>\n",
       "<style scoped>\n",
       "    .dataframe tbody tr th:only-of-type {\n",
       "        vertical-align: middle;\n",
       "    }\n",
       "\n",
       "    .dataframe tbody tr th {\n",
       "        vertical-align: top;\n",
       "    }\n",
       "\n",
       "    .dataframe thead th {\n",
       "        text-align: right;\n",
       "    }\n",
       "</style>\n",
       "<table border=\"1\" class=\"dataframe\">\n",
       "  <thead>\n",
       "    <tr style=\"text-align: right;\">\n",
       "      <th></th>\n",
       "      <th>Computer Science</th>\n",
       "      <th>Physics</th>\n",
       "      <th>Mathematics</th>\n",
       "      <th>Statistics</th>\n",
       "      <th>Quantitative Biology</th>\n",
       "      <th>Quantitative Finance</th>\n",
       "    </tr>\n",
       "  </thead>\n",
       "  <tbody>\n",
       "    <tr>\n",
       "      <th>0</th>\n",
       "      <td>1</td>\n",
       "      <td>0</td>\n",
       "      <td>0</td>\n",
       "      <td>0</td>\n",
       "      <td>0</td>\n",
       "      <td>0</td>\n",
       "    </tr>\n",
       "    <tr>\n",
       "      <th>1</th>\n",
       "      <td>1</td>\n",
       "      <td>0</td>\n",
       "      <td>0</td>\n",
       "      <td>0</td>\n",
       "      <td>0</td>\n",
       "      <td>0</td>\n",
       "    </tr>\n",
       "    <tr>\n",
       "      <th>2</th>\n",
       "      <td>0</td>\n",
       "      <td>0</td>\n",
       "      <td>1</td>\n",
       "      <td>0</td>\n",
       "      <td>0</td>\n",
       "      <td>0</td>\n",
       "    </tr>\n",
       "    <tr>\n",
       "      <th>3</th>\n",
       "      <td>0</td>\n",
       "      <td>0</td>\n",
       "      <td>1</td>\n",
       "      <td>0</td>\n",
       "      <td>0</td>\n",
       "      <td>0</td>\n",
       "    </tr>\n",
       "    <tr>\n",
       "      <th>4</th>\n",
       "      <td>1</td>\n",
       "      <td>0</td>\n",
       "      <td>0</td>\n",
       "      <td>1</td>\n",
       "      <td>0</td>\n",
       "      <td>0</td>\n",
       "    </tr>\n",
       "    <tr>\n",
       "      <th>...</th>\n",
       "      <td>...</td>\n",
       "      <td>...</td>\n",
       "      <td>...</td>\n",
       "      <td>...</td>\n",
       "      <td>...</td>\n",
       "      <td>...</td>\n",
       "    </tr>\n",
       "    <tr>\n",
       "      <th>20967</th>\n",
       "      <td>1</td>\n",
       "      <td>1</td>\n",
       "      <td>0</td>\n",
       "      <td>0</td>\n",
       "      <td>0</td>\n",
       "      <td>0</td>\n",
       "    </tr>\n",
       "    <tr>\n",
       "      <th>20968</th>\n",
       "      <td>0</td>\n",
       "      <td>1</td>\n",
       "      <td>0</td>\n",
       "      <td>0</td>\n",
       "      <td>0</td>\n",
       "      <td>0</td>\n",
       "    </tr>\n",
       "    <tr>\n",
       "      <th>20969</th>\n",
       "      <td>1</td>\n",
       "      <td>0</td>\n",
       "      <td>0</td>\n",
       "      <td>0</td>\n",
       "      <td>0</td>\n",
       "      <td>0</td>\n",
       "    </tr>\n",
       "    <tr>\n",
       "      <th>20970</th>\n",
       "      <td>0</td>\n",
       "      <td>0</td>\n",
       "      <td>1</td>\n",
       "      <td>1</td>\n",
       "      <td>0</td>\n",
       "      <td>0</td>\n",
       "    </tr>\n",
       "    <tr>\n",
       "      <th>20971</th>\n",
       "      <td>0</td>\n",
       "      <td>0</td>\n",
       "      <td>1</td>\n",
       "      <td>1</td>\n",
       "      <td>0</td>\n",
       "      <td>0</td>\n",
       "    </tr>\n",
       "  </tbody>\n",
       "</table>\n",
       "<p>20972 rows × 6 columns</p>\n",
       "</div>"
      ],
      "text/plain": [
       "       Computer Science  Physics  Mathematics  Statistics  \\\n",
       "0                     1        0            0           0   \n",
       "1                     1        0            0           0   \n",
       "2                     0        0            1           0   \n",
       "3                     0        0            1           0   \n",
       "4                     1        0            0           1   \n",
       "...                 ...      ...          ...         ...   \n",
       "20967                 1        1            0           0   \n",
       "20968                 0        1            0           0   \n",
       "20969                 1        0            0           0   \n",
       "20970                 0        0            1           1   \n",
       "20971                 0        0            1           1   \n",
       "\n",
       "       Quantitative Biology  Quantitative Finance  \n",
       "0                         0                     0  \n",
       "1                         0                     0  \n",
       "2                         0                     0  \n",
       "3                         0                     0  \n",
       "4                         0                     0  \n",
       "...                     ...                   ...  \n",
       "20967                     0                     0  \n",
       "20968                     0                     0  \n",
       "20969                     0                     0  \n",
       "20970                     0                     0  \n",
       "20971                     0                     0  \n",
       "\n",
       "[20972 rows x 6 columns]"
      ]
     },
     "execution_count": 11,
     "metadata": {},
     "output_type": "execute_result"
    }
   ],
   "source": [
    "y=df_new.iloc[:,0:6] #selecting the output features - y\n",
    "y"
   ]
  },
  {
   "cell_type": "code",
   "execution_count": 21,
   "metadata": {},
   "outputs": [],
   "source": [
    "from sklearn.model_selection import train_test_split                 #importing test-train split\n",
    "\n",
    "x_train,x_test,y_train,y_test = train_test_split(x,y, test_size=0.20, random_state=666)"
   ]
  },
  {
   "cell_type": "code",
   "execution_count": 22,
   "metadata": {},
   "outputs": [],
   "source": [
    "from sklearn.feature_extraction.text import TfidfVectorizer               #importing the TF-IDF vectorizer\n",
    "tfidf_vectoriser=TfidfVectorizer(min_df=5, max_df=0.9, token_pattern = '(\\S+)',\n",
    "                                 max_features=10000,ngram_range=(1,2))    #setting theconstraints as max_features=10000 & bigram\n",
    "x_train_tvect=tfidf_vectoriser.fit_transform(x_train)                     #vectorizing the train dataset of labels (x)\n",
    "x_test_tvect=tfidf_vectoriser.transform(x_test)                           #vectorizing the train dataset of labels (x)"
   ]
  },
  {
   "cell_type": "markdown",
   "metadata": {},
   "source": [
    "### 1. Logistic regression for multi-label classification using a one-vs-rest "
   ]
  },
  {
   "cell_type": "code",
   "execution_count": 23,
   "metadata": {},
   "outputs": [
    {
     "name": "stdout",
     "output_type": "stream",
     "text": [
      "The accuracy of Logitic Regression model with tfidf vectorizing is  0.6522050059594756\n"
     ]
    }
   ],
   "source": [
    "from sklearn.linear_model import LogisticRegression \n",
    "from sklearn.multiclass import OneVsRestClassifier \n",
    "\n",
    "# define model \n",
    "model = LogisticRegression() \n",
    "\n",
    "# define the ovr strategy \n",
    "ovr = OneVsRestClassifier(model) \n",
    "\n",
    "# fit model \n",
    "ovr.fit(x_train_tvect, y_train)\n",
    "\n",
    "# make predictions \n",
    "yhat = ovr.predict(x_test_tvect)\n",
    "\n",
    "from sklearn.metrics import accuracy_score \n",
    "\n",
    "# View accuracy score \n",
    "accuracy_m1 = accuracy_score(y_test, yhat)\n",
    "print('The accuracy of Logitic Regression model with tfidf vectorizing is ',accuracy_m1)"
   ]
  },
  {
   "cell_type": "markdown",
   "metadata": {},
   "source": [
    "### 2. Decision tree classifier"
   ]
  },
  {
   "cell_type": "code",
   "execution_count": 15,
   "metadata": {},
   "outputs": [
    {
     "name": "stdout",
     "output_type": "stream",
     "text": [
      "The accuracy of Decision Tree model with tfidf vectorizing is  0.5022646007151371\n"
     ]
    }
   ],
   "source": [
    " from sklearn.tree import DecisionTreeClassifier  \n",
    "\n",
    "# calling the decision tree into a parameter named classifier\n",
    "classifier = DecisionTreeClassifier()     \n",
    "\n",
    "#training the model by fitting the TFIDFvectorized data onto the classifier\n",
    "classifier.fit(x_train_tvect,y_train)              \n",
    "\n",
    "\n",
    "#passing on the TFIDF vectorized test data (x_test_tvect) to evaluate our model\n",
    "yhat = classifier.predict(x_test_tvect)  \n",
    "\n",
    "\n",
    "from sklearn.metrics import accuracy_score \n",
    "\n",
    "# View accuracy score \n",
    "accuracy_m2 = accuracy_score(y_test, yhat)\n",
    "print('The accuracy of Decision Tree model with tfidf vectorizing is ',accuracy_m2)"
   ]
  },
  {
   "cell_type": "markdown",
   "metadata": {},
   "source": [
    "### 3. Random Forest Classifier    "
   ]
  },
  {
   "cell_type": "code",
   "execution_count": 16,
   "metadata": {},
   "outputs": [
    {
     "name": "stdout",
     "output_type": "stream",
     "text": [
      "The accuracy of Random Forest model with tfidf vectorizing is  0.5973778307508939\n"
     ]
    }
   ],
   "source": [
    "from sklearn.ensemble import RandomForestClassifier\n",
    "\n",
    "forest= RandomForestClassifier(n_estimators = 200)\n",
    "model = forest.fit(x_train_tvect, y_train) \n",
    "\n",
    "yhat= model.predict(x_test_tvect)\n",
    "yhat\n",
    "\n",
    "from sklearn.metrics import accuracy_score\n",
    "# View accuracy score\n",
    "accuracy_m3 = accuracy_score(y_test, yhat)\n",
    "print('The accuracy of Random Forest model with tfidf vectorizing is ',accuracy_m3)"
   ]
  },
  {
   "cell_type": "markdown",
   "metadata": {},
   "source": [
    "### 4. Multinomial Naive Bayes"
   ]
  },
  {
   "cell_type": "code",
   "execution_count": 17,
   "metadata": {},
   "outputs": [
    {
     "name": "stdout",
     "output_type": "stream",
     "text": [
      "The accuracy of Multinomial Naive Bayes model with tfidf vectorizing is  0.6421930870083432\n"
     ]
    }
   ],
   "source": [
    "from sklearn.naive_bayes import MultinomialNB\n",
    "\n",
    "model_nb=MultinomialNB()\n",
    "model_nb=OneVsRestClassifier(model_nb)\n",
    "model_nb.fit(x_train_tvect,y_train)\n",
    "yhat = model_nb.predict(x_test_tvect)\n",
    "\n",
    "accuracy_m4 = accuracy_score(y_test, yhat)\n",
    "print('The accuracy of Multinomial Naive Bayes model with tfidf vectorizing is ',accuracy_m4)"
   ]
  },
  {
   "cell_type": "markdown",
   "metadata": {},
   "source": [
    "### 5. Complement Naive Bayes"
   ]
  },
  {
   "cell_type": "code",
   "execution_count": 18,
   "metadata": {},
   "outputs": [
    {
     "name": "stdout",
     "output_type": "stream",
     "text": [
      "The accuracy of Complement Naive Bayes model with tfidf vectorizing is  0.6421930870083432\n"
     ]
    }
   ],
   "source": [
    "from sklearn.naive_bayes import ComplementNB\n",
    "\n",
    "model=ComplementNB()\n",
    "model=OneVsRestClassifier(model_nb)\n",
    "model.fit(x_train_tvect,y_train)\n",
    "yhat = model_nb.predict(x_test_tvect)\n",
    "\n",
    "accuracy_m5 = accuracy_score(y_test, yhat)\n",
    "print('The accuracy of Complement Naive Bayes model with tfidf vectorizing is ',accuracy_m5)"
   ]
  },
  {
   "cell_type": "markdown",
   "metadata": {},
   "source": [
    "### 6. Linear Support vector classification"
   ]
  },
  {
   "cell_type": "code",
   "execution_count": 19,
   "metadata": {},
   "outputs": [
    {
     "name": "stdout",
     "output_type": "stream",
     "text": [
      "The accuracy of SVC model with tfidf vectorizing is  0.6424314660309892\n"
     ]
    }
   ],
   "source": [
    "from sklearn.svm import LinearSVC\n",
    "from sklearn.multiclass import OneVsRestClassifier \n",
    "\n",
    "\n",
    "model= LinearSVC()\n",
    "ovr=OneVsRestClassifier(model)\n",
    "ovr.fit(x_train_tvect,y_train)\n",
    "yhat = ovr.predict(x_test_tvect)\n",
    "    \n",
    "accuracy_m6 = accuracy_score(y_test, yhat)\n",
    "print('The accuracy of SVC model with tfidf vectorizing is ',accuracy_m6)"
   ]
  },
  {
   "cell_type": "markdown",
   "metadata": {},
   "source": [
    "# Comparing the best  among the 6 models "
   ]
  },
  {
   "cell_type": "code",
   "execution_count": 24,
   "metadata": {},
   "outputs": [
    {
     "name": "stdout",
     "output_type": "stream",
     "text": [
      "Best classifier according to TF IDF Vectorization is Logistic Regression with accuracy 0.6522\n"
     ]
    }
   ],
   "source": [
    "classification = {0:'Logistic Regression',1:'Decision Tree', 2: 'Random Forest', 3:'Multinomial Naive Bayes',\n",
    "                  4: 'Gaussian Naive Bayes', 5:'Support Vector Classifcation'}\n",
    "array1= [accuracy_m1,accuracy_m2,accuracy_m3, accuracy_m4, accuracy_m5, accuracy_m6]\n",
    "acc1 = np.argmax([accuracy_m1,accuracy_m2,accuracy_m3,accuracy_m4,accuracy_m5,accuracy_m6])\n",
    "print('Best classifier according to TF IDF Vectorization is {a} with accuracy {b}'.format(a = classification[acc1], b = round(max(array1),4)))"
   ]
  },
  {
   "cell_type": "markdown",
   "metadata": {},
   "source": [
    "# Conclusion"
   ]
  },
  {
   "cell_type": "markdown",
   "metadata": {},
   "source": [
    "🔹 From the results it can be concluded that Logistic Regression model with TF-IDF vectorization technique yields the best accuracy of approximately 65.22%. We further conduct the experiments based on this model and accuracy.\n",
    "\n",
    "🔹 In our comparison to other techniques for supervised classification such as SVMs or ensemble methods, logistic regression is rather fast and witha a better accuracy.\n",
    "\n",
    "🔹 By applying a logarithmic transformation to the outcome variable, we can model a nonlinear association linearly\n"
   ]
  },
  {
   "cell_type": "code",
   "execution_count": null,
   "metadata": {},
   "outputs": [],
   "source": []
  }
 ],
 "metadata": {
  "kernelspec": {
   "display_name": "Python 3",
   "language": "python",
   "name": "python3"
  },
  "language_info": {
   "codemirror_mode": {
    "name": "ipython",
    "version": 3
   },
   "file_extension": ".py",
   "mimetype": "text/x-python",
   "name": "python",
   "nbconvert_exporter": "python",
   "pygments_lexer": "ipython3",
   "version": "3.8.5"
  }
 },
 "nbformat": 4,
 "nbformat_minor": 4
}
