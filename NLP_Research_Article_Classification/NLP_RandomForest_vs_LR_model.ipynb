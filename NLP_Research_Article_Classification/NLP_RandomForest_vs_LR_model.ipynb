{
 "cells": [
  {
   "cell_type": "markdown",
   "id": "married-northwest",
   "metadata": {},
   "source": [
    "## Experiment-4"
   ]
  },
  {
   "cell_type": "markdown",
   "id": "imperial-pixel",
   "metadata": {},
   "source": [
    "In the experiment-4, Random forest model is compared with Logistic Regression Model"
   ]
  },
  {
   "cell_type": "code",
   "execution_count": 1,
   "id": "indoor-frederick",
   "metadata": {},
   "outputs": [
    {
     "name": "stderr",
     "output_type": "stream",
     "text": [
      "[nltk_data] Downloading package stopwords to\n",
      "[nltk_data]     C:\\Users\\Admin\\AppData\\Roaming\\nltk_data...\n",
      "[nltk_data]   Package stopwords is already up-to-date!\n",
      "[nltk_data] Downloading package wordnet to\n",
      "[nltk_data]     C:\\Users\\Admin\\AppData\\Roaming\\nltk_data...\n",
      "[nltk_data]   Package wordnet is already up-to-date!\n"
     ]
    }
   ],
   "source": [
    "import pandas as pd\n",
    "import numpy as np\n",
    "import os\n",
    "import string\n",
    "from nltk.corpus import stopwords\n",
    "from nltk.stem.porter import PorterStemmer\n",
    "import nltk\n",
    "import matplotlib.pyplot as plt\n",
    "nltk.download('stopwords')\n",
    "nltk.download('wordnet')\n",
    "from sklearn.feature_extraction.text import TfidfVectorizer\n",
    "from sklearn.model_selection import train_test_split\n",
    "%matplotlib inline\n",
    "import warnings\n",
    "warnings.filterwarnings('ignore')\n",
    "import seaborn as sns\n",
    "import matplotlib.pyplot as plt\n"
   ]
  },
  {
   "cell_type": "code",
   "execution_count": 2,
   "id": "complete-victorian",
   "metadata": {},
   "outputs": [
    {
     "data": {
      "text/html": [
       "<div>\n",
       "<style scoped>\n",
       "    .dataframe tbody tr th:only-of-type {\n",
       "        vertical-align: middle;\n",
       "    }\n",
       "\n",
       "    .dataframe tbody tr th {\n",
       "        vertical-align: top;\n",
       "    }\n",
       "\n",
       "    .dataframe thead th {\n",
       "        text-align: right;\n",
       "    }\n",
       "</style>\n",
       "<table border=\"1\" class=\"dataframe\">\n",
       "  <thead>\n",
       "    <tr style=\"text-align: right;\">\n",
       "      <th></th>\n",
       "      <th>ID</th>\n",
       "      <th>TITLE</th>\n",
       "      <th>ABSTRACT</th>\n",
       "      <th>Computer Science</th>\n",
       "      <th>Physics</th>\n",
       "      <th>Mathematics</th>\n",
       "      <th>Statistics</th>\n",
       "      <th>Quantitative Biology</th>\n",
       "      <th>Quantitative Finance</th>\n",
       "    </tr>\n",
       "  </thead>\n",
       "  <tbody>\n",
       "    <tr>\n",
       "      <th>0</th>\n",
       "      <td>1</td>\n",
       "      <td>1 .what Reconstructing Subject-Specific Effect...</td>\n",
       "      <td>Predictive models allow subject-specific inf...</td>\n",
       "      <td>1</td>\n",
       "      <td>0</td>\n",
       "      <td>0</td>\n",
       "      <td>0</td>\n",
       "      <td>0</td>\n",
       "      <td>0</td>\n",
       "    </tr>\n",
       "    <tr>\n",
       "      <th>1</th>\n",
       "      <td>2</td>\n",
       "      <td>Rotation Invariance Neural Network</td>\n",
       "      <td>Rotation invariance and translation invarian...</td>\n",
       "      <td>1</td>\n",
       "      <td>0</td>\n",
       "      <td>0</td>\n",
       "      <td>0</td>\n",
       "      <td>0</td>\n",
       "      <td>0</td>\n",
       "    </tr>\n",
       "    <tr>\n",
       "      <th>2</th>\n",
       "      <td>3</td>\n",
       "      <td>Spherical polyharmonics and Poisson kernels fo...</td>\n",
       "      <td>We introduce and develop the notion of spher...</td>\n",
       "      <td>0</td>\n",
       "      <td>0</td>\n",
       "      <td>1</td>\n",
       "      <td>0</td>\n",
       "      <td>0</td>\n",
       "      <td>0</td>\n",
       "    </tr>\n",
       "    <tr>\n",
       "      <th>3</th>\n",
       "      <td>4</td>\n",
       "      <td>A finite element approximation for the stochas...</td>\n",
       "      <td>The stochastic Landau--Lifshitz--Gilbert (LL...</td>\n",
       "      <td>0</td>\n",
       "      <td>0</td>\n",
       "      <td>1</td>\n",
       "      <td>0</td>\n",
       "      <td>0</td>\n",
       "      <td>0</td>\n",
       "    </tr>\n",
       "    <tr>\n",
       "      <th>4</th>\n",
       "      <td>5</td>\n",
       "      <td>Comparative study of Discrete Wavelet Transfor...</td>\n",
       "      <td>Fourier-transform infra-red (FTIR) spectra o...</td>\n",
       "      <td>1</td>\n",
       "      <td>0</td>\n",
       "      <td>0</td>\n",
       "      <td>1</td>\n",
       "      <td>0</td>\n",
       "      <td>0</td>\n",
       "    </tr>\n",
       "  </tbody>\n",
       "</table>\n",
       "</div>"
      ],
      "text/plain": [
       "   ID                                              TITLE  \\\n",
       "0   1  1 .what Reconstructing Subject-Specific Effect...   \n",
       "1   2                 Rotation Invariance Neural Network   \n",
       "2   3  Spherical polyharmonics and Poisson kernels fo...   \n",
       "3   4  A finite element approximation for the stochas...   \n",
       "4   5  Comparative study of Discrete Wavelet Transfor...   \n",
       "\n",
       "                                            ABSTRACT  Computer Science  \\\n",
       "0    Predictive models allow subject-specific inf...                 1   \n",
       "1    Rotation invariance and translation invarian...                 1   \n",
       "2    We introduce and develop the notion of spher...                 0   \n",
       "3    The stochastic Landau--Lifshitz--Gilbert (LL...                 0   \n",
       "4    Fourier-transform infra-red (FTIR) spectra o...                 1   \n",
       "\n",
       "   Physics  Mathematics  Statistics  Quantitative Biology  \\\n",
       "0        0            0           0                     0   \n",
       "1        0            0           0                     0   \n",
       "2        0            1           0                     0   \n",
       "3        0            1           0                     0   \n",
       "4        0            0           1                     0   \n",
       "\n",
       "   Quantitative Finance  \n",
       "0                     0  \n",
       "1                     0  \n",
       "2                     0  \n",
       "3                     0  \n",
       "4                     0  "
      ]
     },
     "execution_count": 2,
     "metadata": {},
     "output_type": "execute_result"
    }
   ],
   "source": [
    "dataset=pd.read_csv('Research_Article_train.csv')\n",
    "#dataset.head(15)\n",
    "\n",
    "dataset.head(5)"
   ]
  },
  {
   "cell_type": "code",
   "execution_count": 3,
   "id": "satellite-gateway",
   "metadata": {},
   "outputs": [
    {
     "data": {
      "text/plain": [
       "ID                      float64\n",
       "TITLE                    object\n",
       "ABSTRACT                 object\n",
       "Computer Science        float64\n",
       "Physics                 float64\n",
       "Mathematics             float64\n",
       "Statistics              float64\n",
       "Quantitative Biology    float64\n",
       "Quantitative Finance    float64\n",
       "dtype: object"
      ]
     },
     "execution_count": 3,
     "metadata": {},
     "output_type": "execute_result"
    }
   ],
   "source": [
    "dataset['ID']=dataset['ID'].astype(float)\n",
    "dataset['Computer Science']=dataset['Computer Science'].astype(float)\n",
    "dataset['Physics']=dataset['Physics'].astype(float)\n",
    "dataset['Mathematics']=dataset['Mathematics'].astype(float)\n",
    "dataset['Statistics']=dataset['Statistics'].astype(float)\n",
    "dataset['Quantitative Biology']=dataset['Quantitative Biology'].astype(float)\n",
    "dataset['Quantitative Finance']=dataset['Quantitative Finance'].astype(float)\n",
    "dataset.dtypes"
   ]
  },
  {
   "cell_type": "code",
   "execution_count": 4,
   "id": "experimental-luxury",
   "metadata": {},
   "outputs": [],
   "source": [
    "y=dataset[['Computer Science', 'Physics', 'Mathematics',\n",
    "       'Statistics', 'Quantitative Biology', 'Quantitative Finance']]"
   ]
  },
  {
   "cell_type": "code",
   "execution_count": 11,
   "id": "personal-danger",
   "metadata": {},
   "outputs": [],
   "source": [
    "#combining 2 text columns title and abstract into one and drop columns title and abstract\n",
    "dataset['Text']=dataset['TITLE']+' '+dataset['ABSTRACT']\n",
    "dataset.drop(columns=['TITLE','ABSTRACT'], inplace=True)\n",
    "#dataset.head(5)"
   ]
  },
  {
   "cell_type": "markdown",
   "id": "yellow-pearl",
   "metadata": {},
   "source": [
    "### Data Preprocessing"
   ]
  },
  {
   "cell_type": "code",
   "execution_count": 5,
   "id": "cooked-variable",
   "metadata": {},
   "outputs": [],
   "source": [
    "remove_punc = string.punctuation\n",
    "def remove_punctuation(text):\n",
    "    return text.translate(str.maketrans('', '', remove_punc))"
   ]
  },
  {
   "cell_type": "code",
   "execution_count": 6,
   "id": "iraqi-raising",
   "metadata": {},
   "outputs": [],
   "source": [
    "stopword = set(stopwords.words('english'))\n",
    "def remove_stopwords(text):\n",
    "    \"\"\"custom function to remove the stopwords\"\"\"\n",
    "    return \" \".join([word for word in str(text).split() if word not in stopword])"
   ]
  },
  {
   "cell_type": "code",
   "execution_count": 7,
   "id": "completed-symphony",
   "metadata": {},
   "outputs": [],
   "source": [
    "from nltk.stem import PorterStemmer\n",
    "stemmer = PorterStemmer()\n",
    "def stem_words(text):\n",
    "    return \" \".join([stemmer.stem(word) for word in text.split()])"
   ]
  },
  {
   "cell_type": "code",
   "execution_count": 8,
   "id": "stainless-medium",
   "metadata": {},
   "outputs": [],
   "source": [
    "from nltk.stem import WordNetLemmatizer\n",
    "lemmatizer = WordNetLemmatizer()\n",
    "def lemmatize_words(text):\n",
    "    return \" \".join([lemmatizer.lemmatize(word) for word in text.split()])"
   ]
  },
  {
   "cell_type": "code",
   "execution_count": 9,
   "id": "rental-consultation",
   "metadata": {},
   "outputs": [],
   "source": [
    "def preprocessing(dataset):\n",
    "    #convert to string type\n",
    "    dataset['Text'] = dataset['Text'].astype(str)\n",
    "    #convert to the lowercase\n",
    "    dataset[\"Text\"] = dataset[\"Text\"].str.lower()\n",
    "    #remove punctuations\n",
    "    dataset[\"Text\"] = dataset[\"Text\"].apply(lambda text: remove_punctuation(text))\n",
    "    #stopwords removal\n",
    "    dataset[\"Text\"] = dataset[\"Text\"].apply(lambda text: remove_stopwords(text))\n",
    "    #Remove Numbers\n",
    "    dataset['Text'] =dataset[\"Text\"].str.replace('\\d+', '')\n",
    "    #stemming\n",
    "    dataset[\"Text\"] = dataset[\"Text\"].apply(lambda text: stem_words(text))\n",
    "    #lemmatisation\n",
    "    dataset[\"Text\"] = dataset[\"Text\"].apply(lambda text: lemmatize_words(text))\n",
    "    return dataset"
   ]
  },
  {
   "cell_type": "code",
   "execution_count": 12,
   "id": "original-filter",
   "metadata": {},
   "outputs": [],
   "source": [
    "import warnings\n",
    "warnings.filterwarnings('ignore')\n",
    "processed_data=preprocessing(dataset)"
   ]
  },
  {
   "cell_type": "code",
   "execution_count": 13,
   "id": "forbidden-fancy",
   "metadata": {},
   "outputs": [
    {
     "data": {
      "text/html": [
       "<div>\n",
       "<style scoped>\n",
       "    .dataframe tbody tr th:only-of-type {\n",
       "        vertical-align: middle;\n",
       "    }\n",
       "\n",
       "    .dataframe tbody tr th {\n",
       "        vertical-align: top;\n",
       "    }\n",
       "\n",
       "    .dataframe thead th {\n",
       "        text-align: right;\n",
       "    }\n",
       "</style>\n",
       "<table border=\"1\" class=\"dataframe\">\n",
       "  <thead>\n",
       "    <tr style=\"text-align: right;\">\n",
       "      <th></th>\n",
       "      <th>Text</th>\n",
       "      <th>Computer Science</th>\n",
       "      <th>Physics</th>\n",
       "      <th>Mathematics</th>\n",
       "      <th>Statistics</th>\n",
       "      <th>Quantitative Biology</th>\n",
       "      <th>Quantitative Finance</th>\n",
       "    </tr>\n",
       "  </thead>\n",
       "  <tbody>\n",
       "    <tr>\n",
       "      <th>0</th>\n",
       "      <td>reconstruct subjectspecif effect map predict m...</td>\n",
       "      <td>1.0</td>\n",
       "      <td>0.0</td>\n",
       "      <td>0.0</td>\n",
       "      <td>0.0</td>\n",
       "      <td>0.0</td>\n",
       "      <td>0.0</td>\n",
       "    </tr>\n",
       "    <tr>\n",
       "      <th>1</th>\n",
       "      <td>rotat invari neural network rotat invari trans...</td>\n",
       "      <td>1.0</td>\n",
       "      <td>0.0</td>\n",
       "      <td>0.0</td>\n",
       "      <td>0.0</td>\n",
       "      <td>0.0</td>\n",
       "      <td>0.0</td>\n",
       "    </tr>\n",
       "    <tr>\n",
       "      <th>2</th>\n",
       "      <td>spheric polyharmon poisson kernel polyharmon f...</td>\n",
       "      <td>0.0</td>\n",
       "      <td>0.0</td>\n",
       "      <td>1.0</td>\n",
       "      <td>0.0</td>\n",
       "      <td>0.0</td>\n",
       "      <td>0.0</td>\n",
       "    </tr>\n",
       "    <tr>\n",
       "      <th>3</th>\n",
       "      <td>finit element approxim stochast maxwelllandaul...</td>\n",
       "      <td>0.0</td>\n",
       "      <td>0.0</td>\n",
       "      <td>1.0</td>\n",
       "      <td>0.0</td>\n",
       "      <td>0.0</td>\n",
       "      <td>0.0</td>\n",
       "    </tr>\n",
       "    <tr>\n",
       "      <th>4</th>\n",
       "      <td>compar studi discret wavelet transform wavelet...</td>\n",
       "      <td>1.0</td>\n",
       "      <td>0.0</td>\n",
       "      <td>0.0</td>\n",
       "      <td>1.0</td>\n",
       "      <td>0.0</td>\n",
       "      <td>0.0</td>\n",
       "    </tr>\n",
       "  </tbody>\n",
       "</table>\n",
       "</div>"
      ],
      "text/plain": [
       "                                                Text  Computer Science  \\\n",
       "0  reconstruct subjectspecif effect map predict m...               1.0   \n",
       "1  rotat invari neural network rotat invari trans...               1.0   \n",
       "2  spheric polyharmon poisson kernel polyharmon f...               0.0   \n",
       "3  finit element approxim stochast maxwelllandaul...               0.0   \n",
       "4  compar studi discret wavelet transform wavelet...               1.0   \n",
       "\n",
       "   Physics  Mathematics  Statistics  Quantitative Biology  \\\n",
       "0      0.0          0.0         0.0                   0.0   \n",
       "1      0.0          0.0         0.0                   0.0   \n",
       "2      0.0          1.0         0.0                   0.0   \n",
       "3      0.0          1.0         0.0                   0.0   \n",
       "4      0.0          0.0         1.0                   0.0   \n",
       "\n",
       "   Quantitative Finance  \n",
       "0                   0.0  \n",
       "1                   0.0  \n",
       "2                   0.0  \n",
       "3                   0.0  \n",
       "4                   0.0  "
      ]
     },
     "execution_count": 13,
     "metadata": {},
     "output_type": "execute_result"
    }
   ],
   "source": [
    "clean_data=processed_data[['Text','Computer Science','Physics','Mathematics','Statistics','Quantitative Biology','Quantitative Finance']]\n",
    "clean_data.head(5)"
   ]
  },
  {
   "cell_type": "markdown",
   "id": "horizontal-duncan",
   "metadata": {},
   "source": [
    "#### Text Featurisation"
   ]
  },
  {
   "cell_type": "code",
   "execution_count": 14,
   "id": "stopped-founder",
   "metadata": {},
   "outputs": [
    {
     "data": {
      "text/plain": [
       "array([[0., 0., 0., ..., 0., 0., 0.],\n",
       "       [0., 0., 0., ..., 0., 0., 0.],\n",
       "       [0., 0., 0., ..., 0., 0., 0.],\n",
       "       ...,\n",
       "       [0., 0., 0., ..., 0., 0., 0.],\n",
       "       [0., 0., 0., ..., 0., 0., 0.],\n",
       "       [0., 0., 0., ..., 0., 0., 0.]])"
      ]
     },
     "execution_count": 14,
     "metadata": {},
     "output_type": "execute_result"
    }
   ],
   "source": [
    "tfidf=TfidfVectorizer(analyzer='word',max_features=10000,min_df=5, max_df=0.9, token_pattern = '(\\S+)', ngram_range=(1, 2))\n",
    "X=tfidf.fit_transform(clean_data['Text'])\n",
    "X=X.toarray()\n",
    "X"
   ]
  },
  {
   "cell_type": "markdown",
   "id": "regional-sunrise",
   "metadata": {},
   "source": [
    "#### Splitting Dataset"
   ]
  },
  {
   "cell_type": "code",
   "execution_count": 15,
   "id": "consistent-twenty",
   "metadata": {},
   "outputs": [],
   "source": [
    "X_train,X_test,y_train,y_test=train_test_split(X,y,test_size=0.20,random_state=0)"
   ]
  },
  {
   "cell_type": "markdown",
   "id": "thick-recall",
   "metadata": {},
   "source": [
    "### Random Forest Classifier"
   ]
  },
  {
   "cell_type": "markdown",
   "id": "toxic-broad",
   "metadata": {},
   "source": [
    "#### Training the model"
   ]
  },
  {
   "cell_type": "code",
   "execution_count": 16,
   "id": "sorted-yield",
   "metadata": {},
   "outputs": [],
   "source": [
    "from sklearn.ensemble import RandomForestClassifier"
   ]
  },
  {
   "cell_type": "code",
   "execution_count": 18,
   "id": "promising-profile",
   "metadata": {},
   "outputs": [
    {
     "data": {
      "text/plain": [
       "array([[0., 0., 1., 0., 0., 0.],\n",
       "       [0., 0., 1., 0., 0., 0.],\n",
       "       [0., 1., 0., 0., 0., 0.],\n",
       "       ...,\n",
       "       [0., 0., 1., 0., 0., 0.],\n",
       "       [0., 1., 0., 0., 0., 0.],\n",
       "       [1., 0., 0., 0., 0., 0.]])"
      ]
     },
     "execution_count": 18,
     "metadata": {},
     "output_type": "execute_result"
    }
   ],
   "source": [
    "forest= RandomForestClassifier(n_estimators = 200)\n",
    "model = forest.fit(X_train, y_train) "
   ]
  },
  {
   "cell_type": "markdown",
   "id": "satellite-haiti",
   "metadata": {},
   "source": [
    "##### Testing the model by making predictions"
   ]
  },
  {
   "cell_type": "code",
   "execution_count": null,
   "id": "several-circuit",
   "metadata": {},
   "outputs": [],
   "source": [
    "y_pred= model.predict(X_test)\n",
    "y_pred"
   ]
  },
  {
   "cell_type": "code",
   "execution_count": 19,
   "id": "hydraulic-boulder",
   "metadata": {},
   "outputs": [
    {
     "data": {
      "text/plain": [
       "0.5864123957091776"
      ]
     },
     "execution_count": 19,
     "metadata": {},
     "output_type": "execute_result"
    }
   ],
   "source": [
    "from sklearn.metrics import accuracy_score\n",
    "# View accuracy score\n",
    "accuracy_score(y_test, y_pred)"
   ]
  },
  {
   "cell_type": "code",
   "execution_count": 21,
   "id": "bizarre-baptist",
   "metadata": {},
   "outputs": [
    {
     "name": "stdout",
     "output_type": "stream",
     "text": [
      "[[[2083  368]\n",
      "  [ 302 1442]]\n",
      "\n",
      " [[2958   41]\n",
      "  [ 350  846]]\n",
      "\n",
      " [[3046   74]\n",
      "  [ 362  713]]\n",
      "\n",
      " [[3061  108]\n",
      "  [ 576  450]]\n",
      "\n",
      " [[4079    0]\n",
      "  [ 116    0]]\n",
      "\n",
      " [[4145    0]\n",
      "  [  50    0]]]\n"
     ]
    }
   ],
   "source": [
    "from sklearn.metrics import multilabel_confusion_matrix\n",
    "print(multilabel_confusion_matrix(y_test,y_pred))"
   ]
  },
  {
   "cell_type": "code",
   "execution_count": 23,
   "id": "considered-jersey",
   "metadata": {},
   "outputs": [
    {
     "name": "stdout",
     "output_type": "stream",
     "text": [
      "              precision    recall  f1-score   support\n",
      "\n",
      "           0       0.80      0.83      0.81      1744\n",
      "           1       0.95      0.71      0.81      1196\n",
      "           2       0.91      0.66      0.77      1075\n",
      "           3       0.81      0.44      0.57      1026\n",
      "           4       0.00      0.00      0.00       116\n",
      "           5       0.00      0.00      0.00        50\n",
      "\n",
      "   micro avg       0.85      0.66      0.75      5207\n",
      "   macro avg       0.58      0.44      0.49      5207\n",
      "weighted avg       0.83      0.66      0.73      5207\n",
      " samples avg       0.74      0.70      0.71      5207\n",
      "\n"
     ]
    }
   ],
   "source": [
    "from sklearn.metrics import classification_report\n",
    "print(classification_report(y_test,y_pred))"
   ]
  },
  {
   "cell_type": "markdown",
   "id": "geographic-mileage",
   "metadata": {},
   "source": [
    "## Logistic Regression"
   ]
  },
  {
   "cell_type": "markdown",
   "id": "forbidden-heaven",
   "metadata": {},
   "source": [
    "Logistic Regression is a simplest supervised learning algorithm, it is used to modelling categorical outcome variable. ie if the dependent variables are binary, this algorithm is used for predictions. Here the model is testing the text is related the given labels('Computer Science', 'Physics', 'Mathematics','Statistics', 'Quantitative Biology', 'Quantitative Finance') or not."
   ]
  },
  {
   "cell_type": "markdown",
   "id": "optimum-sugar",
   "metadata": {},
   "source": [
    "###### Training the model"
   ]
  },
  {
   "cell_type": "code",
   "execution_count": 24,
   "id": "preceding-coating",
   "metadata": {},
   "outputs": [],
   "source": [
    "# logistic regression for multi-label classification using a one-vs-rest\n",
    "from sklearn.linear_model import LogisticRegression\n",
    "from sklearn.multiclass import OneVsRestClassifier\n",
    "# define model\n",
    "model = LogisticRegression()\n",
    "# define the ovr strategy\n",
    "ovr = OneVsRestClassifier(model)\n",
    "# fit model\n",
    "ovr.fit(X_train, y_train)\n"
   ]
  },
  {
   "cell_type": "markdown",
   "id": "legislative-elements",
   "metadata": {},
   "source": [
    "##### Testing the model"
   ]
  },
  {
   "cell_type": "code",
   "execution_count": 25,
   "id": "chubby-radar",
   "metadata": {},
   "outputs": [
    {
     "data": {
      "text/plain": [
       "array([[0, 0, 1, 0, 0, 0],\n",
       "       [0, 0, 1, 0, 0, 0],\n",
       "       [0, 1, 0, 0, 0, 0],\n",
       "       ...,\n",
       "       [0, 0, 1, 0, 0, 0],\n",
       "       [0, 1, 0, 0, 0, 0],\n",
       "       [1, 0, 0, 0, 0, 0]])"
      ]
     },
     "execution_count": 25,
     "metadata": {},
     "output_type": "execute_result"
    }
   ],
   "source": [
    "# make predictions\n",
    "yhat = ovr.predict(X_test)\n",
    "yhat"
   ]
  },
  {
   "cell_type": "code",
   "execution_count": 26,
   "id": "narrow-mystery",
   "metadata": {},
   "outputs": [
    {
     "data": {
      "text/plain": [
       "0.6471990464839095"
      ]
     },
     "execution_count": 26,
     "metadata": {},
     "output_type": "execute_result"
    }
   ],
   "source": [
    "from sklearn.metrics import accuracy_score\n",
    "# View accuracy score\n",
    "accuracy_score(y_test, yhat)"
   ]
  },
  {
   "cell_type": "markdown",
   "id": "challenging-villa",
   "metadata": {},
   "source": [
    "Here, the accuracy of Logistic Regression is higher than the accuracy of random forest. The accuracy is increased from 0.58 to 0.64"
   ]
  },
  {
   "cell_type": "code",
   "execution_count": 27,
   "id": "quarterly-benjamin",
   "metadata": {},
   "outputs": [
    {
     "name": "stdout",
     "output_type": "stream",
     "text": [
      "[[[2185  266]\n",
      "  [ 280 1464]]\n",
      "\n",
      " [[2929   70]\n",
      "  [ 224  972]]\n",
      "\n",
      " [[2961  159]\n",
      "  [ 252  823]]\n",
      "\n",
      " [[2993  176]\n",
      "  [ 325  701]]\n",
      "\n",
      " [[4073    6]\n",
      "  [ 111    5]]\n",
      "\n",
      " [[4142    3]\n",
      "  [  45    5]]]\n"
     ]
    }
   ],
   "source": [
    "print(multilabel_confusion_matrix(y_test,yhat))"
   ]
  },
  {
   "cell_type": "markdown",
   "id": "responsible-bloom",
   "metadata": {},
   "source": [
    "#### Plotting Confusion Matrix"
   ]
  },
  {
   "cell_type": "code",
   "execution_count": 31,
   "id": "fundamental-canyon",
   "metadata": {},
   "outputs": [],
   "source": [
    "from sklearn.metrics import confusion_matrix, ConfusionMatrixDisplay"
   ]
  },
  {
   "cell_type": "code",
   "execution_count": 33,
   "id": "resistant-effectiveness",
   "metadata": {},
   "outputs": [
    {
     "data": {
      "image/png": "[encoded data removed]",
      "text/plain": [
       "<Figure size 1080x504 with 7 Axes>"
      ]
     },
     "metadata": {
      "needs_background": "light"
     },
     "output_type": "display_data"
    }
   ],
   "source": [
    "ytest=y_test.values \n",
    "f, axes = plt.subplots(2, 3, figsize=(15, 7))\n",
    "axes = axes.ravel()\n",
    "for i in range(6):\n",
    "    disp = ConfusionMatrixDisplay(confusion_matrix(ytest[:, i],yhat[:, i]),display_labels=[0, i])\n",
    "                                  \n",
    "    disp.plot(ax=axes[i], values_format='.4g')\n",
    "    #disp.ax_.set_title(f'label')\n",
    "    #if i<10:\n",
    "        #disp.ax_.set_xlabel('')\n",
    "    #if i%5!=0:\n",
    "        #disp.ax_.set_ylabel('')\n",
    "    disp.im_.colorbar.remove()\n",
    "\n",
    "plt.subplots_adjust(wspace=0.10, hspace=0.1)\n",
    "f.colorbar(disp.im_, ax=axes)\n",
    "plt.show()"
   ]
  },
  {
   "cell_type": "code",
   "execution_count": 34,
   "id": "social-tournament",
   "metadata": {},
   "outputs": [
    {
     "name": "stdout",
     "output_type": "stream",
     "text": [
      "              precision    recall  f1-score   support\n",
      "\n",
      "           0       0.85      0.84      0.84      1744\n",
      "           1       0.93      0.81      0.87      1196\n",
      "           2       0.84      0.77      0.80      1075\n",
      "           3       0.80      0.68      0.74      1026\n",
      "           4       0.45      0.04      0.08       116\n",
      "           5       0.62      0.10      0.17        50\n",
      "\n",
      "   micro avg       0.85      0.76      0.81      5207\n",
      "   macro avg       0.75      0.54      0.58      5207\n",
      "weighted avg       0.84      0.76      0.80      5207\n",
      " samples avg       0.81      0.80      0.79      5207\n",
      "\n"
     ]
    }
   ],
   "source": [
    "print(classification_report(y_test,yhat))"
   ]
  },
  {
   "cell_type": "markdown",
   "id": "iraqi-mexican",
   "metadata": {},
   "source": [
    "###### Discuss best results"
   ]
  },
  {
   "cell_type": "markdown",
   "id": "brief-deficit",
   "metadata": {},
   "source": [
    "The perfect model is the one which has accuracy 100% and f1-score is equal to 1. f1-score is the mean of precision and recall values, it used for measuring the accuracy."
   ]
  },
  {
   "cell_type": "markdown",
   "id": "lesser-department",
   "metadata": {},
   "source": [
    "From the experiments that has done above, it is evident that the accuracy is slightly improved, the experiment 4 shows the best results in accuracy as well as in the f1-score.The f1-score of micro avg, weighted avg are 0.81 and 0.80. The logistic regression with one vs rest classifier algorithm is used to analyse the model and the final accuracy is 0.64. From the classification chart, it can understand that the f1-score for each class is different especially the class 4 and class 5, this is because the text column labeled to these classes very less. Except these 2 classes all other f1-scores are better compared to previous setup."
   ]
  },
  {
   "cell_type": "markdown",
   "id": "beginning-crown",
   "metadata": {},
   "source": [
    "###### Evaluate the overall attempt and outcome"
   ]
  },
  {
   "cell_type": "markdown",
   "id": "asian-brake",
   "metadata": {},
   "source": [
    "In the experiment 1, the dataset is preprocessed using different methods like remove punctuation,remove stopwords, converting the text from uppercase to lowercase, stemming, lemmatization and analyse the model without lemmatization method and with lemmatization method.There  has a minute variation in the accuracy of the model.\n",
    "In the experiment 2, the text featurisation methods tfidf and countVectorizer is compared, both the model are used to convert text to vector representation.The accuracy of the model with countVectorizer is 0.568 and the model with tfidf is 0.589. ie tfidf is better than countVectorizer\n",
    "In the experiment 3, hyperparameter tuning is done for improving the accuracy of the model and the accuracy is improved after tuning the model by 0.001%\n",
    "In the experiment 4, in which two models are compared and the logistic regression model gives the best results than random forest.It is possible to increase the accuracy of the model by hyperparameter tuning."
   ]
  },
  {
   "cell_type": "markdown",
   "id": "actual-russian",
   "metadata": {},
   "source": [
    "The above experiment has done and analysed the model based on the dataset available on the kaggle. In this dataset most of the text have only 1 label and it is shown in the bar chart plotted. It may cause class imbalance and also it affects the accuracy of the model. We can balance the data by using techniques like MLSMOTE for improving the accuracy. Also need to build the model using different algorithms to increase the accuracy."
   ]
  },
  {
   "cell_type": "markdown",
   "id": "informational-reset",
   "metadata": {},
   "source": [
    "### Conclusion"
   ]
  },
  {
   "cell_type": "markdown",
   "id": "alternate-sarah",
   "metadata": {},
   "source": [
    "Multilabel classifier model has built by tried out 4 different experimentation setup, and then train and test the model to understand the variations."
   ]
  }
 ],
 "metadata": {
  "kernelspec": {
   "display_name": "Python 3",
   "language": "python",
   "name": "python3"
  },
  "language_info": {
   "codemirror_mode": {
    "name": "ipython",
    "version": 3
   },
   "file_extension": ".py",
   "mimetype": "text/x-python",
   "name": "python",
   "nbconvert_exporter": "python",
   "pygments_lexer": "ipython3",
   "version": "3.8.5"
  }
 },
 "nbformat": 4,
 "nbformat_minor": 5
}
